{
 "cells": [
  {
   "cell_type": "markdown",
   "metadata": {},
   "source": [
    "# EvolvePy Example 4 - Logger\n",
    "\n",
    "In this example, we will show how to user Loggers to store all optimization history.\n",
    "\n",
    "- MemoryStoreLogger\n",
    "- FileLogger\n",
    "- Wandblogger"
   ]
  },
  {
   "cell_type": "code",
   "execution_count": 9,
   "metadata": {},
   "outputs": [],
   "source": [
    "import evolvepy\n",
    "\n",
    "import numpy as np\n",
    "from matplotlib import pyplot as plt"
   ]
  },
  {
   "cell_type": "markdown",
   "metadata": {},
   "source": [
    "# Fitness function, Generator\n",
    "\n",
    "We will use the same fitness function and generator created in the Dynamic Mutation example:"
   ]
  },
  {
   "cell_type": "code",
   "execution_count": 2,
   "metadata": {},
   "outputs": [],
   "source": [
    "from evolvepy.evaluator import FunctionEvaluator\n",
    "from evolvepy.generator import Generator, CombineLayer\n",
    "from evolvepy.generator.mutation import NumericMutationLayer, sum_mutation\n",
    "from evolvepy.generator.crossover import one_point\n",
    "from evolvepy.generator.selection import tournament\n",
    "from evolvepy import Evolver\n",
    "from evolvepy.callbacks import DynamicMutation\n",
    "from evolvepy.generator import Descriptor\n",
    "\n",
    "\n",
    "def fitness_function(individuals):\n",
    "    individual = individuals[0][\"chr0\"][0] \n",
    "\n",
    "    score = 0\n",
    "\n",
    "    if individual < 500:\n",
    "        score = individual\n",
    "    elif individual < 1000:\n",
    "        score = 1000 - individual\n",
    "    elif individual < 2000:\n",
    "        score = individual - 1000\n",
    "    elif individual < 3000:\n",
    "        score = 3000 - individual\n",
    "    elif individual < 4000:\n",
    "        score = 2.0*(individual - 3000)\n",
    "    else:\n",
    "        score = 2.0*(5000-individual)\n",
    "\n",
    "    return score\n",
    "\n",
    "evaluator = FunctionEvaluator(fitness_function)\n",
    "\n",
    "descriptor = Descriptor(chromossome_ranges= (-500.0, 500.0))\n",
    "layers = [CombineLayer(tournament, one_point), NumericMutationLayer(sum_mutation, 1.0, 0.0, (-10.0, 10.0))]\n",
    "generator = Generator(descriptor=descriptor, layers=layers)\n",
    "\n",
    "\n",
    "mutation_layer = layers[1]\n",
    "dyn_mut = DynamicMutation([mutation_layer.name], patience=3, refinement_patience=3, exploration_patience=3, refinement_steps=2, exploration_steps=5, refinement_divider=2, exploration_multiplier=4) \n"
   ]
  },
  {
   "cell_type": "markdown",
   "metadata": {},
   "source": [
    "# MemoryStoreLogger\n",
    "\n",
    "Our first example will use MemoryStoreLogger. As the name suggests, this logger stores the entire evolution history directly in memory. Although simple and quick to use, it may not work in the case of individuals with many chromosomes/genes, in evolutions over many generations, or in systems with low memory.\n",
    "\n",
    "All the loggers works as Callbacks, and can you can define which data to log in the constructor:\n",
    "- log_fitness: logs the population fitness. Default is True.\n",
    "- log_population: logs the population (cromossomes). Default is False.\n",
    "- log_generator: logs the generator parameters. Default is True.\n",
    "- log_evaluator: logs the evaluator parameters. Default is True.\n",
    "- log_scores: logs the evaluation scores. Default is False."
   ]
  },
  {
   "cell_type": "code",
   "execution_count": 3,
   "metadata": {},
   "outputs": [],
   "source": [
    "from evolvepy.callbacks import MemoryStoreLogger\n",
    "\n",
    "# Creates the logger callback\n",
    "memory_logger = MemoryStoreLogger(log_population=True)\n",
    "\n",
    "evolver = Evolver(generator, evaluator, 100, callbacks=[dyn_mut, memory_logger])     "
   ]
  },
  {
   "cell_type": "markdown",
   "metadata": {},
   "source": [
    "Let's evolve for some generation to have data to analyze:"
   ]
  },
  {
   "cell_type": "code",
   "execution_count": 4,
   "metadata": {},
   "outputs": [],
   "source": [
    "hist, last_population = evolver.evolve(200) "
   ]
  },
  {
   "cell_type": "markdown",
   "metadata": {},
   "source": [
    "All Loggers separate data into two sets: static parameters, which are generator or evaluator parameters that do not change across generations; and dynamic parameters, generator or rater parameters that can change across generations, along with fitness, scores and populations."
   ]
  },
  {
   "cell_type": "markdown",
   "metadata": {},
   "source": [
    "Let's see the static parameters, in there you can see all the configuration of the evolver:"
   ]
  },
  {
   "cell_type": "code",
   "execution_count": 5,
   "metadata": {},
   "outputs": [
    {
     "name": "stdout",
     "output_type": "stream",
     "text": [
      "Generator\n",
      "CombineLayer6/selection_function_name  :  tournament\n",
      "CombineLayer6/crossover_function_name  :  one_point\n",
      "NumericMutationLayer7/mutation_function_name  :  sum_mutation\n",
      "\n",
      "Evaluator\n",
      "FunctionEvaluator5/evaluation_function_name  :  fitness_function\n",
      "FunctionEvaluator5/n_scores  :  1\n",
      "FunctionEvaluator5/individual_per_call  :  1\n"
     ]
    }
   ],
   "source": [
    "print(\"Generator\")\n",
    "for key, value in memory_logger.config_log[\"generator\"].items():\n",
    "    print(key, ' : ', value)\n",
    "print()\n",
    "\n",
    "print(\"Evaluator\")\n",
    "for key, value in memory_logger.config_log[\"evaluator\"].items():\n",
    "    print(key, ' : ', value)"
   ]
  },
  {
   "cell_type": "markdown",
   "metadata": {},
   "source": [
    "For dynamic parameters, we can see all available parameters:"
   ]
  },
  {
   "cell_type": "code",
   "execution_count": 6,
   "metadata": {},
   "outputs": [
    {
     "data": {
      "text/plain": [
       "dict_keys(['population', 'generation', 'fitness', 'generator', 'evaluator', 'best_fitness', 'best_individual/chr0/0'])"
      ]
     },
     "execution_count": 6,
     "metadata": {},
     "output_type": "execute_result"
    }
   ],
   "source": [
    "memory_logger.log[0].keys()"
   ]
  },
  {
   "cell_type": "markdown",
   "metadata": {},
   "source": [
    "For example, let's look at some first generation individuals:"
   ]
  },
  {
   "cell_type": "code",
   "execution_count": 7,
   "metadata": {},
   "outputs": [
    {
     "data": {
      "text/plain": [
       "array([([ 415.4348  ],), ([ 227.32782 ],), ([-452.75687 ],),\n",
       "       ([ 429.42505 ],), ([ 181.99591 ],), ([ 357.06396 ],),\n",
       "       ([-390.47003 ],), ([  59.830994],), ([ 101.49841 ],),\n",
       "       ([ 253.26752 ],)], dtype=[('chr0', '<f4', (1,))])"
      ]
     },
     "execution_count": 7,
     "metadata": {},
     "output_type": "execute_result"
    }
   ],
   "source": [
    "memory_logger.log[0][\"population\"][:10]"
   ]
  },
  {
   "cell_type": "markdown",
   "metadata": {},
   "source": [
    "Something interesting to see is the mutation range of the mutation layer, which can be found in the generator's dynamic parameters. We can see how the mutation rate changes when fitness gets stuck:"
   ]
  },
  {
   "cell_type": "code",
   "execution_count": 10,
   "metadata": {},
   "outputs": [
    {
     "data": {
      "image/png": "[encoded data removed]",
      "text/plain": [
       "<Figure size 432x288 with 2 Axes>"
      ]
     },
     "metadata": {
      "needs_background": "light"
     },
     "output_type": "display_data"
    }
   ],
   "source": [
    "mutation_range_max = []\n",
    "\n",
    "for log in memory_logger.log:\n",
    "    mutation_range_max.append(log[\"generator\"][layers[1].name+\"/mutation_range_max\"])\n",
    "\n",
    "fig = plt.figure()\n",
    "ax = fig.add_subplot(111)\n",
    "ax2 = ax.twinx()\n",
    "\n",
    "h1 = ax.plot(hist.max(axis=1), label=\"Fitness\")[0]\n",
    "ax.set_ylabel(\"Fitness\")\n",
    "\n",
    "h2 = ax2.plot(mutation_range_max, color=\"orange\", label=\"Mutation range max\", alpha=0.8)[0]\n",
    "ax2.set_yscale(\"log\")\n",
    "ax2.set_ylabel(\"Mutation range\")\n",
    "\n",
    "plt.title(\"Fitness and mutation range\")\n",
    "plt.xlabel(\"Generation\")\n",
    "plt.legend(handles=[h1, h2])\n",
    "plt.show()"
   ]
  },
  {
   "cell_type": "markdown",
   "metadata": {},
   "source": [
    "![](Example4-Figure1.jpg)"
   ]
  },
  {
   "cell_type": "markdown",
   "metadata": {},
   "source": [
    "# FileLogger"
   ]
  },
  {
   "cell_type": "markdown",
   "metadata": {},
   "source": [
    "# WandbLogger\n",
    "\n",
    "Another way of saving your logs is upload it to [Weights & Biases](https://wandb.ai/site), a plataform for experiment tracking."
   ]
  },
  {
   "cell_type": "markdown",
   "metadata": {},
   "source": [
    "First, you will need to install and log in to wandb (skip if you already logged in):"
   ]
  },
  {
   "cell_type": "code",
   "execution_count": null,
   "metadata": {},
   "outputs": [],
   "source": [
    "!pip install wandb\n",
    "!wandb login"
   ]
  },
  {
   "cell_type": "markdown",
   "metadata": {},
   "source": [
    "Then, we can create a WandbLogger callback and use it to log our data:"
   ]
  },
  {
   "cell_type": "code",
   "execution_count": null,
   "metadata": {},
   "outputs": [],
   "source": [
    "from evolvepy.integrations.wandb import WandbLogger\n",
    "\n",
    "wandb_logger = WandbLogger(name=\"ExampleRun\", project=\"EvolvePy Example\")\n",
    "\n",
    "evolver = Evolver(generator, evaluator, 100, callbacks=[dyn_mut, wandb_logger])  \n",
    "\n",
    "hist, last_population = evolver.evolve(200)"
   ]
  },
  {
   "cell_type": "markdown",
   "metadata": {},
   "source": [
    "Go to the run link shown above to see the data. "
   ]
  }
 ],
 "metadata": {
  "interpreter": {
   "hash": "2db524e06e9f5f4ffedc911c917cb75e12dbc923643829bf417064a77eb14d37"
  },
  "kernelspec": {
   "display_name": "Python 3.8.5 64-bit",
   "language": "python",
   "name": "python3"
  },
  "language_info": {
   "codemirror_mode": {
    "name": "ipython",
    "version": 3
   },
   "file_extension": ".py",
   "mimetype": "text/x-python",
   "name": "python",
   "nbconvert_exporter": "python",
   "pygments_lexer": "ipython3",
   "version": "3.8.5"
  },
  "orig_nbformat": 4
 },
 "nbformat": 4,
 "nbformat_minor": 2
}

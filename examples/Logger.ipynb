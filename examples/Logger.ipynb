{
 "cells": [
  {
   "cell_type": "markdown",
   "metadata": {},
   "source": [
    "# EvolvePy Example 4 - Logger\n",
    "\n",
    "In this example, we will show how to user Loggers to store all optimization history.\n",
    "\n",
    "- MemoryStoreLogger\n",
    "- FileLogger\n",
    "- Wandblogger"
   ]
  },
  {
   "cell_type": "code",
   "execution_count": 10,
   "metadata": {},
   "outputs": [],
   "source": [
    "import evolvepy\n",
    "\n",
    "import numpy as np\n",
    "from matplotlib import pyplot as plt"
   ]
  },
  {
   "cell_type": "markdown",
   "metadata": {},
   "source": [
    "# Fitness function, Generator\n",
    "\n",
    "We will use the same fitness function and generator created in the Dynamic Mutation example:"
   ]
  },
  {
   "cell_type": "code",
   "execution_count": 11,
   "metadata": {},
   "outputs": [],
   "source": [
    "from evolvepy.evaluator import FunctionEvaluator\n",
    "from evolvepy.generator import Generator, CombineLayer\n",
    "from evolvepy.generator.mutation import NumericMutationLayer, sum_mutation\n",
    "from evolvepy.generator.crossover import one_point\n",
    "from evolvepy.generator.selection import tournament\n",
    "from evolvepy import Evolver\n",
    "from evolvepy.callbacks import DynamicMutation\n",
    "from evolvepy.generator import Descriptor\n",
    "\n",
    "\n",
    "def fitness_function(individuals):\n",
    "    individual = individuals[0][\"chr0\"][0] \n",
    "\n",
    "    score = 0\n",
    "\n",
    "    if individual < 500:\n",
    "        score = individual\n",
    "    elif individual < 1000:\n",
    "        score = 1000 - individual\n",
    "    elif individual < 2000:\n",
    "        score = individual - 1000\n",
    "    elif individual < 3000:\n",
    "        score = 3000 - individual\n",
    "    elif individual < 4000:\n",
    "        score = 2.0*(individual - 3000)\n",
    "    else:\n",
    "        score = 2.0*(5000-individual)\n",
    "\n",
    "    return score\n",
    "\n",
    "evaluator = FunctionEvaluator(fitness_function)\n",
    "\n",
    "descriptor = Descriptor(chromosome_ranges= (-500.0, 500.0))\n",
    "layers = [CombineLayer(tournament, one_point), NumericMutationLayer(sum_mutation, 1.0, 0.0, (-10.0, 10.0))]\n",
    "generator = Generator(descriptor=descriptor, layers=layers)\n",
    "\n",
    "\n",
    "mutation_layer = layers[1]\n",
    "dyn_mut = DynamicMutation([mutation_layer.name], patience=3, refinement_patience=3, exploration_patience=3, refinement_steps=2, exploration_steps=5, refinement_divider=2, exploration_multiplier=4) \n"
   ]
  },
  {
   "cell_type": "markdown",
   "metadata": {},
   "source": [
    "# MemoryStoreLogger\n",
    "\n",
    "Our first example will use MemoryStoreLogger. As the name suggests, this logger stores the entire evolution history directly in memory. Although simple and quick to use, it may not work in the case of individuals with many chromosomes/genes, in evolutions over many generations, or in systems with low memory.\n",
    "\n",
    "All the loggers works as Callbacks, and can you can define which data to log in the constructor:\n",
    "- log_fitness: logs the population fitness. Default is True.\n",
    "- log_population: logs the population (cromossomes). Default is False.\n",
    "- log_generator: logs the generator parameters. Default is True.\n",
    "- log_evaluator: logs the evaluator parameters. Default is True.\n",
    "- log_scores: logs the evaluation scores. Default is False."
   ]
  },
  {
   "cell_type": "code",
   "execution_count": 12,
   "metadata": {},
   "outputs": [],
   "source": [
    "from evolvepy.callbacks import MemoryStoreLogger\n",
    "\n",
    "# Creates the logger callback\n",
    "memory_logger = MemoryStoreLogger(log_population=True)\n",
    "\n",
    "evolver = Evolver(generator, evaluator, 100, callbacks=[dyn_mut, memory_logger])     "
   ]
  },
  {
   "cell_type": "markdown",
   "metadata": {},
   "source": [
    "Let's evolve for some generation to have data to analyze:"
   ]
  },
  {
   "cell_type": "code",
   "execution_count": 13,
   "metadata": {},
   "outputs": [],
   "source": [
    "hist, last_population = evolver.evolve(200) "
   ]
  },
  {
   "cell_type": "markdown",
   "metadata": {},
   "source": [
    "All Loggers separate data into two sets: static parameters, which are generator or evaluator parameters that do not change across generations; and dynamic parameters, generator or rater parameters that can change across generations, along with fitness, scores and populations."
   ]
  },
  {
   "cell_type": "markdown",
   "metadata": {},
   "source": [
    "Let's see the static parameters, in there you can see all the configuration of the evolver:"
   ]
  },
  {
   "cell_type": "code",
   "execution_count": 14,
   "metadata": {},
   "outputs": [
    {
     "name": "stdout",
     "output_type": "stream",
     "text": [
      "Generator\n",
      "CombineLayer8/selection_function_name  :  tournament\n",
      "CombineLayer8/crossover_function_name  :  one_point\n",
      "NumericMutationLayer9/mutation_function_name  :  sum_mutation\n",
      "FirstGenLayer10/initialize_zeros  :  False\n",
      "\n",
      "Evaluator\n",
      "FunctionEvaluator7/evaluation_function_name  :  fitness_function\n",
      "FunctionEvaluator7/n_scores  :  1\n",
      "FunctionEvaluator7/individual_per_call  :  1\n"
     ]
    }
   ],
   "source": [
    "print(\"Generator\")\n",
    "for key, value in memory_logger.config_log[\"generator\"].items():\n",
    "    print(key, ' : ', value)\n",
    "print()\n",
    "\n",
    "print(\"Evaluator\")\n",
    "for key, value in memory_logger.config_log[\"evaluator\"].items():\n",
    "    print(key, ' : ', value)"
   ]
  },
  {
   "cell_type": "markdown",
   "metadata": {},
   "source": [
    "For dynamic parameters, we can see all available parameters:"
   ]
  },
  {
   "cell_type": "code",
   "execution_count": 15,
   "metadata": {},
   "outputs": [
    {
     "data": {
      "text/plain": [
       "dict_keys(['population', 'generation', 'fitness', 'generator', 'evaluator', 'best_fitness', 'best_individual/chr0/0'])"
      ]
     },
     "execution_count": 15,
     "metadata": {},
     "output_type": "execute_result"
    }
   ],
   "source": [
    "memory_logger.log[0].keys()"
   ]
  },
  {
   "cell_type": "markdown",
   "metadata": {},
   "source": [
    "For example, let's look at some first generation individuals:"
   ]
  },
  {
   "cell_type": "code",
   "execution_count": 16,
   "metadata": {},
   "outputs": [
    {
     "data": {
      "text/plain": [
       "array([([-419.02527],), ([ 448.0159 ],), ([ 434.28223],), ([ 176.9926 ],),\n",
       "       ([-110.49188],), ([-334.17606],), ([ 198.51755],), ([-407.62122],),\n",
       "       ([-474.9576 ],), ([-421.9375 ],)], dtype=[('chr0', '<f4', (1,))])"
      ]
     },
     "execution_count": 16,
     "metadata": {},
     "output_type": "execute_result"
    }
   ],
   "source": [
    "memory_logger.log[0][\"population\"][:10]"
   ]
  },
  {
   "cell_type": "markdown",
   "metadata": {},
   "source": [
    "Something interesting to see is the mutation range of the mutation layer, which can be found in the generator's dynamic parameters. We can see how the mutation rate changes when fitness gets stuck:"
   ]
  },
  {
   "cell_type": "code",
   "execution_count": 17,
   "metadata": {},
   "outputs": [
    {
     "data": {
      "image/png": "[encoded data removed]",
      "text/plain": [
       "<Figure size 432x288 with 2 Axes>"
      ]
     },
     "metadata": {
      "needs_background": "light"
     },
     "output_type": "display_data"
    }
   ],
   "source": [
    "mutation_range_max = []\n",
    "\n",
    "for log in memory_logger.log:\n",
    "    mutation_range_max.append(log[\"generator\"][layers[1].name+\"/mutation_range_max\"])\n",
    "\n",
    "fig = plt.figure()\n",
    "ax = fig.add_subplot(111)\n",
    "ax2 = ax.twinx()\n",
    "\n",
    "h1 = ax.plot(hist.max(axis=1), label=\"Fitness\")[0]\n",
    "ax.set_ylabel(\"Fitness\")\n",
    "\n",
    "h2 = ax2.plot(mutation_range_max, color=\"orange\", label=\"Mutation range max\", alpha=0.8)[0]\n",
    "ax2.set_yscale(\"log\")\n",
    "ax2.set_ylabel(\"Mutation range\")\n",
    "\n",
    "plt.title(\"Fitness and mutation range\")\n",
    "plt.xlabel(\"Generation\")\n",
    "plt.legend(handles=[h1, h2])\n",
    "plt.show()"
   ]
  },
  {
   "cell_type": "markdown",
   "metadata": {},
   "source": [
    "![](Example4-Figure1.jpg)"
   ]
  },
  {
   "cell_type": "markdown",
   "metadata": {},
   "source": [
    "# FileLogger"
   ]
  },
  {
   "cell_type": "markdown",
   "metadata": {},
   "source": [
    "Here we can see a use exemple of the FileLogger, which is a simpler, faster and spacially cheaper alternative to the Memory Storage. Although, it does not proide any quick get funtions of the data.\n",
    "\n",
    "All logs will be saved in the evolution_logs directory on the same level of this exemple directory."
   ]
  },
  {
   "cell_type": "code",
   "execution_count": 18,
   "metadata": {},
   "outputs": [],
   "source": [
    "from evolvepy.callbacks import FileStoreLogger\n",
    "\n",
    "# Creates the logger callback\n",
    "file_logger = FileStoreLogger(log_fitness = True, log_population = False, log_generator = True, log_evaluator = True, log_scores = False)\n",
    "evolver = Evolver(generator, evaluator, 100, callbacks=[dyn_mut, file_logger])  "
   ]
  },
  {
   "cell_type": "code",
   "execution_count": 19,
   "metadata": {},
   "outputs": [],
   "source": [
    "hist, last_population = evolver.evolve(200)"
   ]
  },
  {
   "cell_type": "markdown",
   "metadata": {},
   "source": [
    "# WandbLogger\n",
    "\n",
    "Another way of saving your logs is upload it to [Weights & Biases](https://wandb.ai/site), a plataform for experiment tracking."
   ]
  },
  {
   "cell_type": "markdown",
   "metadata": {},
   "source": [
    "First, you will need to install and log in to wandb (skip if you already logged in):"
   ]
  },
  {
   "cell_type": "code",
   "execution_count": 20,
   "metadata": {},
   "outputs": [
    {
     "name": "stdout",
     "output_type": "stream",
     "text": [
      "Defaulting to user installation because normal site-packages is not writeable\n",
      "Requirement already satisfied: wandb in /home/j/.local/lib/python3.8/site-packages (0.12.9)\n",
      "Requirement already satisfied: shortuuid>=0.5.0 in /home/j/.local/lib/python3.8/site-packages (from wandb) (1.0.8)\n",
      "Requirement already satisfied: six>=1.13.0 in /usr/lib/python3/dist-packages (from wandb) (1.14.0)\n",
      "Requirement already satisfied: requests<3,>=2.0.0 in /usr/lib/python3/dist-packages (from wandb) (2.22.0)\n",
      "Requirement already satisfied: promise<3,>=2.0 in /home/j/.local/lib/python3.8/site-packages (from wandb) (2.3)\n",
      "Requirement already satisfied: docker-pycreds>=0.4.0 in /home/j/.local/lib/python3.8/site-packages (from wandb) (0.4.0)\n",
      "Requirement already satisfied: GitPython>=1.0.0 in /home/j/.local/lib/python3.8/site-packages (from wandb) (3.1.24)\n",
      "Requirement already satisfied: subprocess32>=3.5.3 in /home/j/.local/lib/python3.8/site-packages (from wandb) (3.5.4)\n",
      "Requirement already satisfied: protobuf>=3.12.0 in /home/j/.local/lib/python3.8/site-packages (from wandb) (3.19.1)\n",
      "Requirement already satisfied: yaspin>=1.0.0 in /home/j/.local/lib/python3.8/site-packages (from wandb) (2.1.0)\n",
      "Requirement already satisfied: configparser>=3.8.1 in /home/j/.local/lib/python3.8/site-packages (from wandb) (5.2.0)\n",
      "Requirement already satisfied: python-dateutil>=2.6.1 in /usr/lib/python3/dist-packages (from wandb) (2.7.3)\n",
      "Requirement already satisfied: Click!=8.0.0,>=7.0 in /usr/lib/python3/dist-packages (from wandb) (7.0)\n",
      "Requirement already satisfied: sentry-sdk>=1.0.0 in /home/j/.local/lib/python3.8/site-packages (from wandb) (1.5.1)\n",
      "Requirement already satisfied: PyYAML in /usr/lib/python3/dist-packages (from wandb) (5.3.1)\n",
      "Requirement already satisfied: psutil>=5.0.0 in /home/j/.local/lib/python3.8/site-packages (from wandb) (5.9.0)\n",
      "Requirement already satisfied: pathtools in /home/j/.local/lib/python3.8/site-packages (from wandb) (0.1.2)\n",
      "Requirement already satisfied: gitdb<5,>=4.0.1 in /home/j/.local/lib/python3.8/site-packages (from GitPython>=1.0.0->wandb) (4.0.9)\n",
      "Requirement already satisfied: typing-extensions>=3.7.4.3 in /home/j/.local/lib/python3.8/site-packages (from GitPython>=1.0.0->wandb) (4.0.1)\n",
      "Requirement already satisfied: urllib3>=1.10.0 in /usr/lib/python3/dist-packages (from sentry-sdk>=1.0.0->wandb) (1.25.8)\n",
      "Requirement already satisfied: certifi in /usr/lib/python3/dist-packages (from sentry-sdk>=1.0.0->wandb) (2019.11.28)\n",
      "Requirement already satisfied: termcolor<2.0.0,>=1.1.0 in /home/j/.local/lib/python3.8/site-packages (from yaspin>=1.0.0->wandb) (1.1.0)\n",
      "Requirement already satisfied: smmap<6,>=3.0.1 in /home/j/.local/lib/python3.8/site-packages (from gitdb<5,>=4.0.1->GitPython>=1.0.0->wandb) (5.0.0)\n",
      "\u001b[34m\u001b[1mwandb\u001b[0m: You can find your API key in your browser here: https://wandb.ai/authorize\n",
      "\u001b[34m\u001b[1mwandb\u001b[0m: Paste an API key from your profile and hit enter, or press ctrl+c to quit: "
     ]
    }
   ],
   "source": [
    "%pip install wandb\n",
    "!wandb login"
   ]
  },
  {
   "cell_type": "markdown",
   "metadata": {},
   "source": [
    "Then, we can create a WandbLogger callback and use it to log our data:"
   ]
  },
  {
   "cell_type": "code",
   "execution_count": null,
   "metadata": {},
   "outputs": [],
   "source": [
    "from evolvepy.integrations.wandb import WandbLogger\n",
    "\n",
    "wandb_logger = WandbLogger(name=\"ExampleRun\", project=\"EvolvePy Example\")\n",
    "\n",
    "evolver = Evolver(generator, evaluator, 100, callbacks=[dyn_mut, wandb_logger])  \n",
    "\n",
    "hist, last_population = evolver.evolve(200)"
   ]
  },
  {
   "cell_type": "markdown",
   "metadata": {},
   "source": [
    "Go to the run link shown above to see the data. "
   ]
  }
 ],
 "metadata": {
  "interpreter": {
   "hash": "2db524e06e9f5f4ffedc911c917cb75e12dbc923643829bf417064a77eb14d37"
  },
  "kernelspec": {
   "display_name": "Python 3.8.5 64-bit",
   "language": "python",
   "name": "python3"
  },
  "language_info": {
   "codemirror_mode": {
    "name": "ipython",
    "version": 3
   },
   "file_extension": ".py",
   "mimetype": "text/x-python",
   "name": "python",
   "nbconvert_exporter": "python",
   "pygments_lexer": "ipython3",
   "version": "3.8.10"
  },
  "orig_nbformat": 4
 },
 "nbformat": 4,
 "nbformat_minor": 2
}

{
 "cells": [
  {
   "cell_type": "markdown",
   "metadata": {},
   "source": [
    "# Incremental Evolution\n",
    "\n",
    "There are some problems where the solution can be described as a set of small solutions that add up. In these cases, it may be interesting to carry out an incremental evolution. In it, a part of the individuals is blocked, while its other part evolves. After a few generations the blocked part is then released to evolve, evolving another piece of the solution.\n",
    "\n",
    "Let's implement an evolutionary algorithm that performs incremental evolution."
   ]
  },
  {
   "cell_type": "code",
   "execution_count": 1,
   "metadata": {},
   "outputs": [],
   "source": [
    "import evolvepy as ep\n",
    "import numpy as np\n",
    "from matplotlib import pyplot as plt"
   ]
  },
  {
   "cell_type": "markdown",
   "metadata": {},
   "source": [
    "# Fitness Function\n",
    "\n",
    "Our problem will be to find the coefficients of a polynomial, in this case $y = 10 x^3 + 25 x^2$. This is not a problem that would need incremental evolution, but let's use it as an example.\n",
    "\n",
    "The fitness function will be the error of our individual represented polynomial and the target:\n",
    "\n",
    "$$error(individual) = \\sqrt{\\sum_{x=-100}^{100} (polynomial(x) - individual(x))^2}$$\n",
    "\n",
    "Since we want to maximize the fitness, we will use $-error$."
   ]
  },
  {
   "cell_type": "code",
   "execution_count": 2,
   "metadata": {},
   "outputs": [],
   "source": [
    "import numba\n",
    "\n",
    "@numba.jit\n",
    "def f(x):\n",
    "    return 10*np.power(x, 3) + 25*np.power(x, 2)\n",
    "\n",
    "def fitness_function(individuals):\n",
    "    individual = individuals[0]\n",
    "\n",
    "    x = np.arange(-100, 100, 1)\n",
    "    y = f(x)\n",
    "\n",
    "    y_individual = individual[\"chr0\"]*np.power(x, 3) + individual[\"chr1\"]*np.power(x, 2)\n",
    "     \n",
    "    score = np.linalg.norm(y-y_individual)/1E7\n",
    "    \n",
    "    return -score\n",
    "\n",
    "evaluator = ep.evaluator.FunctionEvaluator(fitness_function)"
   ]
  },
  {
   "cell_type": "markdown",
   "metadata": {},
   "source": [
    "# Generator\n",
    "\n",
    "Let's define a generator with elitism. Note that, unlike the previous examples, we are defining layers of type \"FirstGenLayer\". These layers generate the initial individuals and are normally created automatically by the Generator. We created two of these layers: the first will run in the first generation as expected, but it will just randomly generate the first chromosome, the second will be initialized with zeros. The second layer will be used to initialize the second chromosome in the middle of evolution (the parameter \"run=False\" indicates that it will not be executed right at the beginning).\n",
    "\n",
    "We are also using \"Block\" layer. This layer will prevent our second chromosome from being altered by mutations or other operators."
   ]
  },
  {
   "cell_type": "code",
   "execution_count": 27,
   "metadata": {},
   "outputs": [],
   "source": [
    "descriptor = ep.generator.Descriptor([1, 1], [(-100.0, 100.0), (-100.0, 100.0)], types=[np.float32, np.float32])\n",
    "\n",
    "# Blocks the second chromossome\n",
    "block = ep.generator.Block(\"chr1\")\n",
    "\n",
    "mutation = ep.generator.mutation.NumericMutationLayer(ep.generator.mutation.sum_mutation, 1.0, 0.0, (-10.0, 10.0))\n",
    "combine = ep.generator.CombineLayer(ep.generator.selection.tournament, ep.generator.crossover.one_point)\n",
    "filter0 = ep.generator.FilterFirsts(95)\n",
    "sort = ep.generator.Sort()\n",
    "filter1 = ep.generator.FilterFirsts(5)\n",
    "concat = ep.generator.Concatenate()\n",
    "\n",
    "# The FirstGenLayers\n",
    "first_gen0 = ep.generator.FirstGenLayer(descriptor, initialize_zeros=True, chromossome_names=\"chr0\") #Generate only the first chromossome.\n",
    "first_gen1 = ep.generator.FirstGenLayer(descriptor, chromossome_names=\"chr1\", run=False) #Generate the second chromossome.\n",
    "\n",
    "block.next = sort\n",
    "sort.next = filter1\n",
    "filter1.next = concat\n",
    "\n",
    "block.next = mutation\n",
    "mutation.next = combine\n",
    "combine.next = filter0\n",
    "filter0.next = concat\n",
    "\n",
    "concat.next = first_gen0\n",
    "first_gen0.next = first_gen1\n",
    "\n",
    "gen = ep.generator.Generator(first_layer=block, last_layer=first_gen1)"
   ]
  },
  {
   "cell_type": "markdown",
   "metadata": {},
   "source": [
    "# Evolver and Incremental Evolution\n",
    "\n",
    "Here we are creating an Evolver with a dynamic mutation callback and the incremental evolution. The incremental evolution receives the generation in which the chromosome will be unlocked, the Block layer and the FirstGenLayer. It can also receive callbacks to block the execution before the unlock generation. We use this to prevent the dynamic mutation of changing mutation rates before we have all the chromosomes initially evolved."
   ]
  },
  {
   "cell_type": "code",
   "execution_count": 18,
   "metadata": {},
   "outputs": [],
   "source": [
    "dyn_mut = ep.callbacks.DynamicMutation([mutation.name], patience=3, refinement_steps=5, exploration_patience=0, exploration_steps=0, exploration_multiplier=1)\n",
    "inc_evol = ep.callbacks.IncrementalEvolution(15, block_layer=block, first_gen_layer=first_gen1, callbacks=[dyn_mut])\n",
    "\n",
    "\n",
    "evolver = ep.Evolver(gen, evaluator, 100, [inc_evol, dyn_mut])"
   ]
  },
  {
   "cell_type": "markdown",
   "metadata": {},
   "source": [
    "# Results\n",
    "\n",
    "Let's evolve for some generation and see the results"
   ]
  },
  {
   "cell_type": "code",
   "execution_count": 19,
   "metadata": {},
   "outputs": [],
   "source": [
    "hist, last_pop = evolver.evolve(30)"
   ]
  },
  {
   "cell_type": "code",
   "execution_count": null,
   "metadata": {},
   "outputs": [],
   "source": [
    "print(\"Best individual: \", last_pop[np.argmax(hist[-1])])\n",
    "\n",
    "plt.plot(hist.max(axis=1))\n",
    "plt.xlabel(\"Generation\")\n",
    "plt.ylabel(\"Fitness\")\n",
    "plt.title(\"Evolution history\")\n",
    "plt.legend([\"Best\"])\n",
    "plt.show()"
   ]
  },
  {
   "cell_type": "markdown",
   "metadata": {},
   "source": [
    "Looking at the evolution history, we can see how fitness took a leap in generation 15, in which we unlocked the second individual. After that, the generation is stuck for a few generations before activating the dynamic mutation.\n",
    "\n",
    "![](Example5-Figure1.jpg)"
   ]
  },
  {
   "cell_type": "markdown",
   "metadata": {},
   "source": []
  }
 ],
 "metadata": {
  "interpreter": {
   "hash": "2db524e06e9f5f4ffedc911c917cb75e12dbc923643829bf417064a77eb14d37"
  },
  "kernelspec": {
   "display_name": "Python 3.8.5 64-bit",
   "language": "python",
   "name": "python3"
  },
  "language_info": {
   "codemirror_mode": {
    "name": "ipython",
    "version": 3
   },
   "file_extension": ".py",
   "mimetype": "text/x-python",
   "name": "python",
   "nbconvert_exporter": "python",
   "pygments_lexer": "ipython3",
   "version": "3.8.5"
  },
  "orig_nbformat": 4
 },
 "nbformat": 4,
 "nbformat_minor": 2
}

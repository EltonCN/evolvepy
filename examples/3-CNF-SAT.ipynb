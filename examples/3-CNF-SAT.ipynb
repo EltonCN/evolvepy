{
 "cells": [
  {
   "cell_type": "code",
   "execution_count": 1,
   "metadata": {},
   "outputs": [],
   "source": [
    "import evolvepy as ep\n",
    "import numpy as np\n",
    "import matplotlib.pyplot as plt"
   ]
  },
  {
   "cell_type": "markdown",
   "metadata": {},
   "source": [
    "# 3-CNF-SAT"
   ]
  },
  {
   "cell_type": "markdown",
   "metadata": {},
   "source": [
    "In this exemple we are going to see an exemple of Conjunctive Normal Form Satisfability. In this example we will show the CNF with 3 literals clauses. Although the code can cover the problem for N-CNF-SAT."
   ]
  },
  {
   "cell_type": "markdown",
   "metadata": {},
   "source": [
    "# Setting the expression"
   ]
  },
  {
   "cell_type": "markdown",
   "metadata": {},
   "source": [
    "First of all we are going to write a exemple expression. They are a combination of clauses joined by the boolean symbol \"*\" which stands for AND. Those clauses are combinations of literals joined by the boolean symbol \"+\" which stands for OR and each literal can be negated with the symbol \"!\" which stands for NOT.\n",
    "\n",
    "We will generate a random expression."
   ]
  },
  {
   "cell_type": "code",
   "execution_count": 2,
   "metadata": {},
   "outputs": [],
   "source": [
    "from itertools import chain\n",
    "\n",
    "# List with all lower and upper case characters and their negations\n",
    "alphabet = [chr(i) for i in chain(range(65, 91), range(97, 123))]\n",
    "not_alphabet = [\"!\"+chr(i) for i in chain(range(65, 91), range(97, 123))]\n",
    "alphabet = alphabet+not_alphabet\n"
   ]
  },
  {
   "cell_type": "code",
   "execution_count": 3,
   "metadata": {},
   "outputs": [],
   "source": [
    "n_clausule = len(alphabet) - 2"
   ]
  },
  {
   "cell_type": "code",
   "execution_count": 4,
   "metadata": {},
   "outputs": [
    {
     "data": {
      "text/plain": [
       "'(d+x+!y)*(y+J+!w)*(U+!u+!H)*(z+I+!B)*(!F+!Z+!i)*(V+!T+V)*(u+p+!d)*(n+!k+F)*(E+!P+!t)*(Q+q+m)*(!X+!Y+V)*(!c+!w+!W)*(!v+v+L)*(!n+O+!J)*(!w+!N+v)*(!G+V+!z)*(!l+y+r)*(J+J+N)*(q+w+!K)*(!g+!L+y)*(!I+!x+!x)*(!E+d+l)*(A+i+u)*(s+!b+!P)*(!o+n+!a)*(b+y+!T)*(!o+!V+!F)*(F+f+u)*(!S+!K+!c)*(!Y+!c+!B)*(V+c+!V)*(G+q+!p)*(!c+K+!u)*(u+J+!h)*(!h+D+z)*(X+C+e)*(s+C+!X)*(!M+P+U)*(!r+!V+R)*(!q+!t+!X)*(F+T+!p)*(N+s+!C)*(!k+a+E)*(!d+!r+n)*(!R+s+!N)*(b+a+G)*(!B+!V+E)*(!T+!q+!Q)*(b+!H+b)*(!U+!E+J)*(S+O+x)*(!z+!j+x)*(P+v+g)*(!t+I+!a)*(!G+!h+V)*(!A+J+l)*(J+l+!l)*(X+!N+!E)*(!c+!t+Q)*(h+!Z+!z)*(!g+!P+!v)*(r+q+D)*(s+g+T)*(!f+!y+E)*(!Y+!I+!M)*(d+S+!J)*(W+!D+!N)*(!u+z+y)*(z+!X+!p)*(!q+!z+a)*(!Q+!U+K)*(!l+l+!b)*(!b+k+!t)*(!d+u+i)*(z+!A+B)*(!m+!I+M)*(k+e+I)*(x+!b+!M)*(I+!v+h)*(!m+!C+b)*(T+D+T)*(G+y+!K)*(!r+!c+!T)*(!R+!x+!e)*(l+!J+!A)*(j+!k+V)*(B+!h+g)*(!D+f+!V)*(z+o+!q)*(!m+o+!z)*(H+!N+!E)*(W+f+!s)*(!f+M+!S)*(!E+!m+U)*(!C+f+J)*(!h+w+C)*(v+U+z)*(s+u+!Q)*(Y+!k+G)*(!y+B+!b)*(!l+!r+!Z)*(!P+!s+!S)'"
      ]
     },
     "execution_count": 4,
     "metadata": {},
     "output_type": "execute_result"
    }
   ],
   "source": [
    "# Here we define the logical expression, it need to be contained in parenthesis and the variables.\n",
    "expression = \"\"\n",
    "for i in range(n_clausule):\n",
    "    expression += \"(\"\n",
    "\n",
    "    variables = np.random.choice(alphabet, 3)\n",
    "    clause = \"+\".join(variables)\n",
    "    \n",
    "    expression += clause\n",
    "    expression += \")\"\n",
    "    expression += \"*\"\n",
    "\n",
    "expression = expression[:-1] # Remove last \"*\"\n",
    "expression\n"
   ]
  },
  {
   "cell_type": "markdown",
   "metadata": {},
   "source": [
    "# Evaluator\n",
    "\n",
    "To define the evaluator, let's start by defining a class to parse the expression and evaluate the individuals:"
   ]
  },
  {
   "cell_type": "code",
   "execution_count": 5,
   "metadata": {},
   "outputs": [],
   "source": [
    "class CNF_SAT_3:\n",
    "    def __init__(self, expression:str):\n",
    "        variables = {}\n",
    "\n",
    "        # Process expression\n",
    "        expression = expression.replace(\"(\", \"\")\n",
    "        expression = expression.replace(\")\", \"\")\n",
    "        \n",
    "        expressions = expression.split(\"*\")\n",
    "\n",
    "        expressions = list(map(lambda x: x.split(\"+\"),  expressions))\n",
    "        self._expressions = expressions\n",
    "\n",
    "        # Get variables\n",
    "        variables = np.asarray(self._expressions).flatten()\n",
    "        variables = np.char.strip(variables, chars=\"!\")\n",
    "        variables = np.unique(variables)\n",
    "\n",
    "        self._variables = variables\n",
    "        self._n_variable = len(variables)\n",
    "\n",
    "        self._variables_table = {self._variables[i]:i for i in range(self._n_variable)} #\"a\" -> 1\n",
    "        self._inverse_table = {v: k for k, v in self._variables_table.items()} #1 -> \"a\"\n",
    "\n",
    "        self._n_test = 0\n",
    "\n",
    "    @property\n",
    "    def n_variable(self) -> int:\n",
    "        return self._n_variable\n",
    "\n",
    "    @property\n",
    "    def n_test(self) -> int:\n",
    "        return self._n_test\n",
    "\n",
    "    def evaluate(self, individuals:np.ndarray) -> np.ndarray:\n",
    "        individual = individuals[0][\"chr0\"]\n",
    "        score = 0\n",
    "\n",
    "        for expression in self._expressions:\n",
    "            for variable in expression:\n",
    "                if variable[0] == '!':\n",
    "                    if individual[self._variables_table[variable[1]]]:\n",
    "                        score += 1\n",
    "                        break\n",
    "                elif individual[self._variables_table[variable]]:\n",
    "                    score += 1\n",
    "                    break\n",
    "        \n",
    "        self._n_test += 1\n",
    "\n",
    "        return score\n",
    "\n",
    "    def print_individual(self, individual:np.ndarray) -> None:\n",
    "        fitness = self.evaluate([individual])\n",
    "\n",
    "        print(\"Individual's fitness:\", fitness, \"/\", len(self._expressions))\n",
    "        print(\"Variables:\")\n",
    "        \n",
    "        for i in range(self._n_variable):\n",
    "            value = individual[\"chr0\"][i]\n",
    "            variable = self._inverse_table[i]\n",
    "\n",
    "            print(variable+\":\", value)\n",
    "        "
   ]
  },
  {
   "cell_type": "markdown",
   "metadata": {},
   "source": [
    "Our fitness function will be the problem evaluation, which returns the number of true clauses. In this way, we can make our population move towards a better and better solution with each generation."
   ]
  },
  {
   "cell_type": "code",
   "execution_count": 6,
   "metadata": {},
   "outputs": [],
   "source": [
    "problem = CNF_SAT_3(expression)\n",
    "fitness_function = problem.evaluate"
   ]
  },
  {
   "cell_type": "markdown",
   "metadata": {},
   "source": [
    "Here we define the evaluator object for the model with the function we defined above:"
   ]
  },
  {
   "cell_type": "code",
   "execution_count": 7,
   "metadata": {},
   "outputs": [],
   "source": [
    "from evolvepy.evaluator import FunctionEvaluator\n",
    "\n",
    "evaluator = FunctionEvaluator(fitness_function, mode=FunctionEvaluator.PYTHON)"
   ]
  },
  {
   "cell_type": "markdown",
   "metadata": {},
   "source": [
    "## Generator\n",
    "\n",
    "Here we will define the generator for the problem"
   ]
  },
  {
   "cell_type": "markdown",
   "metadata": {},
   "source": [
    "First, we need to define a descriptor with a boolean (true/false) chromosome"
   ]
  },
  {
   "cell_type": "code",
   "execution_count": 17,
   "metadata": {},
   "outputs": [
    {
     "name": "stdout",
     "output_type": "stream",
     "text": [
      "[('chr0', '?', (52,))]\n"
     ]
    }
   ],
   "source": [
    "# Here we have individual with n_variables chromosomes of boolean type.\n",
    "# There is no need to define the chromosome varition range\n",
    "descriptor = ep.generator.Descriptor(problem.n_variable, types=[bool])\n",
    "\n",
    "print(descriptor.dtype)"
   ]
  },
  {
   "cell_type": "markdown",
   "metadata": {},
   "source": [
    "Then we will use a BinaryMutationLayer to mutate the individual in this context and a CombineLayer\n",
    "to apply the selection funtions. To see details of those layers and funtions you can read prior notebooks."
   ]
  },
  {
   "cell_type": "code",
   "execution_count": 10,
   "metadata": {},
   "outputs": [],
   "source": [
    "from evolvepy.generator import CombineLayer, Generator\n",
    "from evolvepy.generator.mutation import BinaryMutationLayer, bit_mutation\n",
    "from evolvepy.generator.crossover import one_point\n",
    "from evolvepy.generator.selection import tournament\n",
    "\n",
    "combine = CombineLayer(tournament, one_point)\n",
    "mutation = BinaryMutationLayer(bit_mutation, 0.8, 0.4)\n",
    "\n",
    "combine.next = mutation\n",
    "\n",
    "gen = Generator(descriptor=descriptor, first_layer=combine, last_layer=mutation)"
   ]
  },
  {
   "cell_type": "markdown",
   "metadata": {},
   "source": [
    "# Run and Results\n",
    "\n",
    "Let's evolve our population and see the results"
   ]
  },
  {
   "cell_type": "code",
   "execution_count": 11,
   "metadata": {},
   "outputs": [],
   "source": [
    "n_generations = 50\n",
    "n_individual = 10\n",
    "evolver = ep.Evolver(gen, evaluator, n_individual)\n",
    "hist, last_population = evolver.evolve(n_generations)"
   ]
  },
  {
   "cell_type": "code",
   "execution_count": 12,
   "metadata": {},
   "outputs": [
    {
     "data": {
      "text/plain": [
       "([False,  True,  True, False, False, False, False,  True,  True,  True, False,  True, False,  True,  True,  True,  True,  True,  True,  True,  True,  True, False,  True, False,  True,  True,  True, False, False,  True,  True,  True,  True,  True,  True,  True,  True, False,  True,  True,  True,  True,  True,  True,  True,  True, False,  True, False,  True, False],)"
      ]
     },
     "execution_count": 12,
     "metadata": {},
     "output_type": "execute_result"
    }
   ],
   "source": [
    "best = last_population[np.argmax(hist[-1])]\n",
    "best"
   ]
  },
  {
   "cell_type": "code",
   "execution_count": 20,
   "metadata": {},
   "outputs": [
    {
     "data": {
      "image/png": "[encoded data removed]",
      "text/plain": [
       "<Figure size 432x288 with 1 Axes>"
      ]
     },
     "metadata": {
      "needs_background": "light"
     },
     "output_type": "display_data"
    }
   ],
   "source": [
    "import matplotlib.pyplot as plt\n",
    "\n",
    "plt.plot(hist.max(axis=1))\n",
    "plt.xlabel(\"Generation\")\n",
    "plt.ylabel(\"Fitness\")\n",
    "plt.title(\"Evolution History\")\n",
    "plt.show()"
   ]
  },
  {
   "cell_type": "markdown",
   "metadata": {},
   "source": [
    "Looking at the evolution history, we can see that the algorithm was able to quickly converge to the solution.\n",
    "\n",
    "![Evolution History](3-CNF-SAT-Figure1.jpg)"
   ]
  },
  {
   "cell_type": "markdown",
   "metadata": {},
   "source": [
    "By comparing the number of times the problem was evaluated, with the number of possible combinations of variables, we can see that he managed to find the solution with some efficiency:"
   ]
  },
  {
   "cell_type": "code",
   "execution_count": 14,
   "metadata": {},
   "outputs": [
    {
     "data": {
      "text/plain": [
       "1.1102230246251565e-13"
      ]
     },
     "execution_count": 14,
     "metadata": {},
     "output_type": "execute_result"
    }
   ],
   "source": [
    "problem.n_test/(2**problem.n_variable)"
   ]
  },
  {
   "cell_type": "markdown",
   "metadata": {},
   "source": [
    "We can print all the variables of the solution:"
   ]
  },
  {
   "cell_type": "code",
   "execution_count": 15,
   "metadata": {},
   "outputs": [
    {
     "name": "stdout",
     "output_type": "stream",
     "text": [
      "Individual's fitness: 102 / 102\n",
      "Variables:\n",
      "A: False\n",
      "B: True\n",
      "C: True\n",
      "D: False\n",
      "E: False\n",
      "F: False\n",
      "G: False\n",
      "H: True\n",
      "I: True\n",
      "J: True\n",
      "K: False\n",
      "L: True\n",
      "M: False\n",
      "N: True\n",
      "O: True\n",
      "P: True\n",
      "Q: True\n",
      "R: True\n",
      "S: True\n",
      "T: True\n",
      "U: True\n",
      "V: True\n",
      "W: False\n",
      "X: True\n",
      "Y: False\n",
      "Z: True\n",
      "a: True\n",
      "b: True\n",
      "c: False\n",
      "d: False\n",
      "e: True\n",
      "f: True\n",
      "g: True\n",
      "h: True\n",
      "i: True\n",
      "j: True\n",
      "k: True\n",
      "l: True\n",
      "m: False\n",
      "n: True\n",
      "o: True\n",
      "p: True\n",
      "q: True\n",
      "r: True\n",
      "s: True\n",
      "t: True\n",
      "u: True\n",
      "v: False\n",
      "w: True\n",
      "x: False\n",
      "y: True\n",
      "z: False\n"
     ]
    }
   ],
   "source": [
    "problem.print_individual(best)"
   ]
  }
 ],
 "metadata": {
  "interpreter": {
   "hash": "2db524e06e9f5f4ffedc911c917cb75e12dbc923643829bf417064a77eb14d37"
  },
  "kernelspec": {
   "display_name": "Python 3.8.5 64-bit",
   "language": "python",
   "name": "python3"
  },
  "language_info": {
   "codemirror_mode": {
    "name": "ipython",
    "version": 3
   },
   "file_extension": ".py",
   "mimetype": "text/x-python",
   "name": "python",
   "nbconvert_exporter": "python",
   "pygments_lexer": "ipython3",
   "version": "3.8.5"
  },
  "orig_nbformat": 4
 },
 "nbformat": 4,
 "nbformat_minor": 2
}

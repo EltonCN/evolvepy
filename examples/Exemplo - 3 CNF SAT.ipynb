{
 "cells": [
  {
   "cell_type": "code",
   "execution_count": 1,
   "metadata": {},
   "outputs": [],
   "source": [
    "import evolvepy as ep\n",
    "import numpy as np\n",
    "import matplotlib.pyplot as plt"
   ]
  },
  {
   "cell_type": "markdown",
   "metadata": {},
   "source": [
    "## Definindo a função a ser avaliada"
   ]
  },
  {
   "cell_type": "code",
   "execution_count": 2,
   "metadata": {},
   "outputs": [],
   "source": [
    "# digite a sua expressão lógica usando + como AND, * como OR e ! como NOT\n",
    "expression = \"(\"\n",
    "# digite o número de variáveis (não repetidas) que você usou na expressão\n",
    "n_variables = 3"
   ]
  },
  {
   "cell_type": "code",
   "execution_count": 3,
   "metadata": {},
   "outputs": [],
   "source": [
    "def fitness_function(individuals):\n",
    "\tindividual = individuals[0][\"chr0\"] \n",
    "\tscore = 0\n",
    "\tif individual[0]:\n",
    "\t\tscore+=1\n",
    "\tif not individual[1]:\n",
    "\t\tscore+=1\n",
    "\tif not individual[2]:\n",
    "\t\tscore += 1\n",
    "\n",
    "\treturn score"
   ]
  },
  {
   "cell_type": "code",
   "execution_count": 4,
   "metadata": {},
   "outputs": [],
   "source": [
    "from evolvepy.evaluator import FunctionEvaluator\n",
    "\n",
    "evaluator = FunctionEvaluator(fitness_function, mode=FunctionEvaluator.PYTHON)"
   ]
  },
  {
   "cell_type": "markdown",
   "metadata": {},
   "source": [
    "# Generator\n",
    "\n",
    "Here we will define the generator for the problem"
   ]
  },
  {
   "cell_type": "markdown",
   "metadata": {},
   "source": [
    "first, we need to define a descriptor with a boolean (true/false) chromossome"
   ]
  },
  {
   "cell_type": "code",
   "execution_count": 5,
   "metadata": {},
   "outputs": [],
   "source": [
    "# here we have individual with 1 chromossome with type boolean. There is no need t define the chromossome varition range\n",
    "descriptor = ep.generator.Descriptor(n_variables, types=[bool])"
   ]
  },
  {
   "cell_type": "code",
   "execution_count": 6,
   "metadata": {},
   "outputs": [
    {
     "name": "stdout",
     "output_type": "stream",
     "text": [
      "[('chr0', '?', (3,))]\n"
     ]
    }
   ],
   "source": [
    "print(descriptor.dtype)"
   ]
  },
  {
   "cell_type": "code",
   "execution_count": 7,
   "metadata": {},
   "outputs": [],
   "source": [
    "from evolvepy.generator import CombineLayer, Generator, FirstGenLayer\n",
    "from evolvepy.generator.mutation import BinaryMutationLayer, bit_mutation\n",
    "from evolvepy.generator.crossover import one_point\n",
    "from evolvepy.generator.selection import tournament\n",
    "\n",
    "combine = CombineLayer(tournament, one_point)\n",
    "mutation = BinaryMutationLayer(bit_mutation, 0.8, 0.4)\n",
    "\n",
    "combine.next = mutation\n",
    "\n",
    "gen = Generator(descriptor=descriptor, first_layer=combine, last_layer=mutation)"
   ]
  },
  {
   "cell_type": "code",
   "execution_count": 8,
   "metadata": {},
   "outputs": [
    {
     "data": {
      "text/plain": [
       "[<evolvepy.generator.combine.CombineLayer at 0x1d577df3040>,\n",
       " <evolvepy.generator.mutation.mutation.BinaryMutationLayer at 0x1d577df3340>,\n",
       " <evolvepy.generator.firstgen.FirstGenLayer at 0x1d577df3370>]"
      ]
     },
     "execution_count": 8,
     "metadata": {},
     "output_type": "execute_result"
    }
   ],
   "source": [
    "gen._layers"
   ]
  },
  {
   "cell_type": "markdown",
   "metadata": {},
   "source": [
    "# Run and Results\n",
    "\n",
    "Let's evolve our population and see the results"
   ]
  },
  {
   "cell_type": "code",
   "execution_count": 9,
   "metadata": {},
   "outputs": [],
   "source": [
    "n_generations = 50\n",
    "n_individual = 10\n",
    "evolver = ep.Evolver(gen, evaluator, n_individual)\n",
    "hist, last_population = evolver.evolve(n_generations)"
   ]
  },
  {
   "cell_type": "code",
   "execution_count": 10,
   "metadata": {},
   "outputs": [
    {
     "data": {
      "text/plain": [
       "([ True, False, False],)"
      ]
     },
     "execution_count": 10,
     "metadata": {},
     "output_type": "execute_result"
    }
   ],
   "source": [
    "last_population[np.argmax(hist[-1])]"
   ]
  },
  {
   "cell_type": "code",
   "execution_count": 11,
   "metadata": {},
   "outputs": [
    {
     "data": {
      "image/png": "[encoded data removed]",
      "text/plain": [
       "<Figure size 432x288 with 1 Axes>"
      ]
     },
     "metadata": {
      "needs_background": "light"
     },
     "output_type": "display_data"
    }
   ],
   "source": [
    "import matplotlib.pyplot as plt\n",
    "\n",
    "plt.plot(hist.max(axis=1))\n",
    "plt.show()"
   ]
  },
  {
   "cell_type": "code",
   "execution_count": null,
   "metadata": {},
   "outputs": [],
   "source": []
  }
 ],
 "metadata": {
  "interpreter": {
   "hash": "2db524e06e9f5f4ffedc911c917cb75e12dbc923643829bf417064a77eb14d37"
  },
  "kernelspec": {
   "display_name": "Python 3.8.5 64-bit",
   "language": "python",
   "name": "python3"
  },
  "language_info": {
   "codemirror_mode": {
    "name": "ipython",
    "version": 3
   },
   "file_extension": ".py",
   "mimetype": "text/x-python",
   "name": "python",
   "nbconvert_exporter": "python",
   "pygments_lexer": "ipython3",
   "version": "3.8.5"
  },
  "orig_nbformat": 4
 },
 "nbformat": 4,
 "nbformat_minor": 2
}

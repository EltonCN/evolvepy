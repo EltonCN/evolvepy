{
 "cells": [
  {
   "cell_type": "markdown",
   "metadata": {},
   "source": [
    "# Car PID Control\n",
    "\n",
    "In this example, we are going to use a evolutionary algorithm to tune PID controllers.\n",
    "\n",
    "The controllers will drive a car in an OpenAI Gym, let's start by installing the environment."
   ]
  },
  {
   "cell_type": "code",
   "execution_count": 13,
   "metadata": {},
   "outputs": [],
   "source": [
    "import evolvepy as ep\n",
    "import numpy as np\n",
    "import matplotlib.pyplot as plt"
   ]
  },
  {
   "cell_type": "markdown",
   "metadata": {},
   "source": [
    "# Evaluator\n",
    "\n",
    "In many applications, evaluating an individual can be a slow process. We can speed up this process by evaluating them in parallel. To do this, you need to define a class inheriting from **ProcessFitnessFunction**, which will act as a cost function. It has two methods that need to be defined:\n",
    "\n",
    "- setup: will prepare the evaluator. Useful for performing costly processes that need to be done once to evaluate all individuals.\n",
    "- evaluate: receives the individuals and returns the scores for each of them.\n",
    "\n",
    "As Jupyter Notebook doesn't handle multiprocessing well, some classes are defined in the [\"car_racing_utils.py\"](car_racing_utils.py) file. A short description of the components in this file:\n",
    "\n",
    "- PID class: a simple PID control implementation.\n",
    "- compute_long_error: computes the longitudinal error, the difference between the velocity of the car and the desired velocity. As the observation of the environment only provides an image of it, this function \"cheats\" by accessing some other elements of it, since extracting the car's speed from the image would be more complex and is not the objective of this example.\n",
    "- compute_lat_error: computes the lateral error, how far out of the center of the track the car is. Use the observation image, and check how far the car is from the edges, normalized between -0.5 and 0.5 (left-right edge)\n",
    "- CarRacingEvaluator class: a ProcessFitnessFunction, initializes the environment once in the setup, and evaluates the individual by instantiating the lateral and longitudinal controllers and running the environment until its end. The individual's score is the sum of all rewards."
   ]
  },
  {
   "cell_type": "markdown",
   "metadata": {},
   "source": [
    "Once we have the cost class defined, we can instantiate the evaluator:"
   ]
  },
  {
   "cell_type": "code",
   "execution_count": null,
   "metadata": {},
   "outputs": [],
   "source": [
    "from car_racing_utils import CarRacingEvaluator\n",
    "evaluator = ep.evaluator.ProcessEvaluator(CarRacingEvaluator)"
   ]
  },
  {
   "cell_type": "markdown",
   "metadata": {},
   "source": [
    "Another common problem in real environments is evaluation noise. With each assessment, the individual's score may vary, particularly when an individual is very lucky for the setting of the environment. In this case, one possible approach is to assess the same individual multiple times and average the scores. Let's do this using a MultipleEvaluation."
   ]
  },
  {
   "cell_type": "code",
   "execution_count": 2,
   "metadata": {},
   "outputs": [],
   "source": [
    "multiple_evaluation = ep.evaluator.MultipleEvaluation(evaluator, # The evaluator\n",
    "                                                    n_evaluation=10, # How many times to evaluate the same individual\n",
    "                                                     agregator=np.mean, # How to aggregate an individual's scores\n",
    "                                                     discard_max=True, discard_min=True # Discards the lowest and highest score\n",
    "                                                     )"
   ]
  },
  {
   "cell_type": "markdown",
   "metadata": {},
   "source": [
    "Finally, to further accelerate evolution, we can use a fitness cache. It will store each individual's fitness, and retrieve it if they are assessed again. We can specify how many decimal places of genes we are considering when comparing two individuals."
   ]
  },
  {
   "cell_type": "code",
   "execution_count": null,
   "metadata": {},
   "outputs": [],
   "source": [
    "cache = ep.evaluator.FitnessCache(multiple_evaluation, max_decimals=5)"
   ]
  },
  {
   "cell_type": "markdown",
   "metadata": {},
   "source": [
    "Both FitnessCache and MultipleEvaluation are evaluation stages, meaning they can act as evaluators, receiving one another to change their behavior."
   ]
  },
  {
   "cell_type": "markdown",
   "metadata": {},
   "source": [
    "# Generator\n",
    "\n",
    "Let's define a simple generator with elitism. Our individuals will have a chromosome with 6 genes, each representing one of the constants (kp, ki, kd) of the two controllers (longitudinal and lateral)."
   ]
  },
  {
   "cell_type": "code",
   "execution_count": 3,
   "metadata": {},
   "outputs": [],
   "source": [
    "descriptor = ep.generator.Descriptor(6, (0.0, 5.0))"
   ]
  },
  {
   "cell_type": "code",
   "execution_count": 4,
   "metadata": {},
   "outputs": [],
   "source": [
    "from evolvepy import generator\n",
    "\n",
    "n_individual = 50\n",
    "\n",
    "first_layer = generator.Layer()\n",
    "\n",
    "combine = generator.CombineLayer(generator.selection.tournament, generator.crossover.one_point)\n",
    "mutation = generator.mutation.NumericMutationLayer(generator.mutation.sum_mutation, 1.0, 0.2, (-1.0, 1.0))\n",
    "filter1 = generator.FilterFirsts(int(np.floor(0.95*n_individual)))\n",
    "first_layer.next = combine\n",
    "combine.next = mutation\n",
    "mutation.next = filter1\n",
    "\n",
    "sort = generator.Sort()\n",
    "filter2 = generator.FilterFirsts(int(np.ceil(0.05*n_individual)))\n",
    "first_layer.next = sort\n",
    "sort.next = filter2\n",
    "\n",
    "concatenate = generator.Concatenate()\n",
    "filter1.next = concatenate\n",
    "filter2.next = concatenate\n",
    "\n",
    "gen = generator.Generator(descriptor=descriptor, first_layer=first_layer, last_layer=concatenate)"
   ]
  },
  {
   "cell_type": "markdown",
   "metadata": {},
   "source": [
    "# Run and Results\n",
    "\n",
    "Let's evolve our population and see the results"
   ]
  },
  {
   "cell_type": "code",
   "execution_count": null,
   "metadata": {},
   "outputs": [],
   "source": [
    "evolver = ep.Evolver(gen, cache, n_individual)\n",
    "hist, last_population = evolver.evolve(50)"
   ]
  },
  {
   "cell_type": "code",
   "execution_count": 58,
   "metadata": {},
   "outputs": [
    {
     "data": {
      "image/png": "[encoded data removed]",
      "text/plain": [
       "<Figure size 432x288 with 1 Axes>"
      ]
     },
     "metadata": {
      "needs_background": "light"
     },
     "output_type": "display_data"
    }
   ],
   "source": [
    "plt.plot(np.max(hist, axis=1))\n",
    "plt.plot(np.median(hist, axis=1))\n",
    "\n",
    "plt.legend([\"Best\", \"Median\"])\n",
    "plt.xlabel(\"Generation\")\n",
    "plt.ylabel(\"Fitness\")\n",
    "plt.title(\"Evolution History\")\n",
    "plt.show()"
   ]
  },
  {
   "cell_type": "markdown",
   "metadata": {},
   "source": [
    "By looking at fitness history, we can see how the best individual improved over time, with the rest of the population following along.\n",
    "\n",
    "![Evolution History](CarPIDControl-Figure1.jpg)"
   ]
  },
  {
   "cell_type": "code",
   "execution_count": 59,
   "metadata": {},
   "outputs": [
    {
     "data": {
      "image/png": "[encoded data removed]",
      "text/plain": [
       "<Figure size 432x288 with 1 Axes>"
      ]
     },
     "metadata": {
      "needs_background": "light"
     },
     "output_type": "display_data"
    }
   ],
   "source": [
    "_, bins, _ = plt.hist(hist[-1], histtype=\"step\")\n",
    "plt.hist(hist[0], bins, histtype=\"step\")\n",
    "\n",
    "plt.legend([\"First generation\", \"Last generation\"])\n",
    "plt.xlabel(\"Generation\")\n",
    "plt.ylabel(\"Individuals\")\n",
    "plt.title(\"Fitness Histogram\")\n",
    "plt.show()"
   ]
  },
  {
   "cell_type": "markdown",
   "metadata": {},
   "source": [
    "The fitness histogram of the first and last generations shows that the population was converging to a better region as the generations passed.\n",
    "\n",
    "![Evolution History](CarPIDControl-Figure2.jpg)"
   ]
  },
  {
   "cell_type": "markdown",
   "metadata": {},
   "source": [
    "We can even save a video of our best individual:"
   ]
  },
  {
   "cell_type": "code",
   "execution_count": 12,
   "metadata": {},
   "outputs": [
    {
     "name": "stderr",
     "output_type": "stream",
     "text": [
      "C:\\Python38\\lib\\site-packages\\pyglet\\image\\codecs\\wic.py:289: UserWarning: [WinError -2147417850] Não é possível alterar o modo de thread depois de o mesmo estar definido\n",
      "  warnings.warn(str(err))\n"
     ]
    },
    {
     "data": {
      "text/plain": [
       "625.2797202797096"
      ]
     },
     "execution_count": 12,
     "metadata": {},
     "output_type": "execute_result"
    }
   ],
   "source": [
    "best = last_population[np.argmax(hist[-1])]\n",
    "\n",
    "test_evaluator = CarRacingEvaluator(save=True)\n",
    "test_evaluator(best.ravel())"
   ]
  },
  {
   "cell_type": "markdown",
   "metadata": {},
   "source": [
    "A previously recorded result can be seen in the video below (click on the image to go to the video).\n",
    "\n",
    "[![Evolution History](CarPIDControl-Figure3.png)](https://www.youtube.com/watch?v=7NaK_CaXaeo)"
   ]
  },
  {
   "cell_type": "markdown",
   "metadata": {},
   "source": [
    "It is important to emphasize that the performance of the optimization depends a lot on the way the evaluation is defined. Comparing an evolved population as it is on this notebook with an evolved one with only 3 ratings and only 1 generation cache, we can see how noise hinders the evolution process:\n",
    "\n",
    "![Run Comparison](CarPIDControl-Figure4.png)"
   ]
  },
  {
   "cell_type": "markdown",
   "metadata": {},
   "source": [
    "Finally, a complete log of all data can be seen in [Weights and Biases](https://wandb.ai/eltoncn/EvolvePy%20Example/runs/2880i6ay?workspace=user-eltoncn)."
   ]
  }
 ],
 "metadata": {
  "interpreter": {
   "hash": "2db524e06e9f5f4ffedc911c917cb75e12dbc923643829bf417064a77eb14d37"
  },
  "kernelspec": {
   "display_name": "Python 3.8.5 64-bit",
   "language": "python",
   "name": "python3"
  },
  "language_info": {
   "codemirror_mode": {
    "name": "ipython",
    "version": 3
   },
   "file_extension": ".py",
   "mimetype": "text/x-python",
   "name": "python",
   "nbconvert_exporter": "python",
   "pygments_lexer": "ipython3",
   "version": "3.8.5"
  },
  "orig_nbformat": 4
 },
 "nbformat": 4,
 "nbformat_minor": 2
}

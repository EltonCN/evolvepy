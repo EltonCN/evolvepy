{
 "cells": [
  {
   "cell_type": "markdown",
   "metadata": {},
   "source": [
    "# Reinforcement learning\n",
    "\n",
    "In this example, we are going to use a evolutionary algorithm to train a dense neural network for the gym's [BipedalWalker environment](https://gym.openai.com/envs/BipedalWalker-v2/)."
   ]
  },
  {
   "cell_type": "markdown",
   "metadata": {},
   "source": [
    "![](RL-Figure1.jpg)"
   ]
  },
  {
   "cell_type": "code",
   "execution_count": 1,
   "metadata": {},
   "outputs": [],
   "source": [
    "import gym\n",
    "import numpy as np\n",
    "import evolvepy as ep\n",
    "import matplotlib.pyplot as plt"
   ]
  },
  {
   "cell_type": "markdown",
   "metadata": {},
   "source": [
    "# Evaluator\n",
    "\n",
    "To speed up the individuals evaluation, we are going to use multiple process. Because of that, we need to define a class that will act on what function we evaluate, which, as Jupyter Notebook doesn't handle multiprocessing well, we need to define it in a separate file.\n",
    "\n",
    "The [bipedal_evaluator.py](bipedal_evaluator.py) file contains:\n",
    "\n",
    "-  BipedalWalkerFitnessFunction: a GymFitnessFunction, evaluates the individual by making him control the agent through the environment, using the total reward obtained as fitness."
   ]
  },
  {
   "cell_type": "code",
   "execution_count": 2,
   "metadata": {},
   "outputs": [],
   "source": [
    "from bipedal_evaluator import BipedalWalkerFitnessFunction\n",
    "\n",
    "evaluator = ep.evaluator.ProcessEvaluator(BipedalWalkerFitnessFunction)"
   ]
  },
  {
   "cell_type": "markdown",
   "metadata": {},
   "source": [
    "As the environment contains random properties, the final score can vary, generating harmful noise in fitness. To deal with this problem, we're going to run 10 assessments on the same individual and then averaging and discarding the highest and lowest."
   ]
  },
  {
   "cell_type": "code",
   "execution_count": 3,
   "metadata": {},
   "outputs": [],
   "source": [
    "multiple_evaluation = ep.evaluator.MultipleEvaluation(evaluator, 10, discard_max=True, discard_min=True)"
   ]
  },
  {
   "cell_type": "markdown",
   "metadata": {},
   "source": [
    "# Generator\n",
    "\n",
    "Let's start by defining the descriptor of our individuals. Each individual will own the layer weights and bias. The number of neurons is described in the \"sizes\" variable. Let's put as range of each layer (-1, 1)."
   ]
  },
  {
   "cell_type": "code",
   "execution_count": 4,
   "metadata": {},
   "outputs": [],
   "source": [
    "sizes = [20, 20 , 4] # Units of each layer\n",
    "input_size = 24 # Network input size (= observation size)\n",
    "\n",
    "names = []\n",
    "chr_sizes = []\n",
    "types = []\n",
    "ranges = []\n",
    "\n",
    "for i in range(3):\n",
    "    total_weights = input_size*sizes[i]\n",
    "\n",
    "    names.append(\"layer\"+str(i)+\"w\")\n",
    "    names.append(\"layer\"+str(i)+\"b\")\n",
    "\n",
    "    chr_sizes.append(total_weights)\n",
    "    chr_sizes.append(sizes[i])\n",
    "\n",
    "    ranges.append((-1.0, 1.0))\n",
    "    ranges.append((-1.0, 1.0))\n",
    "\n",
    "    types.append(np.float32)\n",
    "    types.append(np.float32)\n",
    "\n",
    "    input_size = sizes[i]\n",
    "\n",
    "descriptor = ep.generator.Descriptor(chr_sizes, ranges, types, names)"
   ]
  },
  {
   "cell_type": "markdown",
   "metadata": {},
   "source": [
    "As we are going to evaluate individuals using multiple processes, it is more efficient to use a population size multiple of the number of processors, using all of them at all times:"
   ]
  },
  {
   "cell_type": "code",
   "execution_count": 5,
   "metadata": {},
   "outputs": [],
   "source": [
    "import multiprocessing as mp\n",
    "\n",
    "population_size = (100//mp.cpu_count())*mp.cpu_count()\n",
    "population_size"
   ]
  },
  {
   "cell_type": "markdown",
   "metadata": {},
   "source": [
    "Let's define a generator with elitism:"
   ]
  },
  {
   "cell_type": "code",
   "execution_count": 6,
   "metadata": {},
   "outputs": [],
   "source": [
    "first = ep.generator.Layer()\n",
    "combine = ep.generator.CombineLayer(ep.generator.selection.tournament, ep.generator.crossover.one_point)\n",
    "mutation = ep.generator.mutation.NumericMutationLayer(ep.generator.mutation.sum_mutation, 1.0, 0.9, (-0.5, 0.5))\n",
    "filter0 = ep.generator.FilterFirsts(int(np.floor(0.95*population_size)))\n",
    "sort = ep.generator.Sort()\n",
    "filter1 = ep.generator.FilterFirsts(int(np.ceil(0.05*population_size)))\n",
    "concat = ep.generator.Concatenate()\n",
    "\n",
    "first.next = combine\n",
    "combine.next = mutation\n",
    "mutation.next = filter0\n",
    "filter0.next = concat\n",
    "\n",
    "first.next = sort\n",
    "sort.next = filter1\n",
    "filter1.next = concat\n",
    "\n",
    "generator = ep.generator.Generator(first_layer=first, last_layer=concat, descriptor=descriptor)\n"
   ]
  },
  {
   "cell_type": "markdown",
   "metadata": {},
   "source": [
    "To avoid getting stuck in some generation, we're also going to use dynamic mutation."
   ]
  },
  {
   "cell_type": "code",
   "execution_count": 7,
   "metadata": {},
   "outputs": [],
   "source": [
    "dyn_mut = ep.callbacks.DynamicMutation([mutation.name], refinement_patience=5, exploration_patience=5, refinement_steps=5)\n",
    "\n",
    "evolver = ep.Evolver(generator, multiple_evaluation, population_size, [dyn_mut])"
   ]
  },
  {
   "cell_type": "markdown",
   "metadata": {},
   "source": [
    "# Evolve and results\n",
    "\n",
    "Let's evolve our generation:"
   ]
  },
  {
   "cell_type": "code",
   "execution_count": 8,
   "metadata": {},
   "outputs": [],
   "source": [
    "hist, last_pop = evolver.evolve(500)"
   ]
  },
  {
   "cell_type": "code",
   "execution_count": 74,
   "metadata": {},
   "outputs": [
    {
     "data": {
      "image/png": "[encoded data removed]",
      "text/plain": [
       "<Figure size 432x288 with 1 Axes>"
      ]
     },
     "metadata": {
      "needs_background": "light"
     },
     "output_type": "display_data"
    }
   ],
   "source": [
    "plt.plot(hist.max(axis=1))\n",
    "plt.plot(np.mean(hist, axis=1))\n",
    "plt.xlabel(\"Generation\")\n",
    "plt.ylabel(\"Fitness\")\n",
    "plt.title(\"Evolution History\")\n",
    "plt.legend([\"Best\", \"Mean\"])\n",
    "plt.show()"
   ]
  },
  {
   "cell_type": "markdown",
   "metadata": {},
   "source": [
    "Looking at the fitness history, we can see that the algorithm managed to evolve our population. Realize how fitness has a noise, not using multiple assessments makes it even greater, hindering evolution. Variation in average fitness is one of the side effects of dynamic mutation.\n",
    "\n",
    "![](RL-Figure2.jpg)\n",
    "\n",
    "It is interesting to note that our population changes drastically at times. This phenomenon is called evolutionary steps.\n",
    "\n",
    "We were able to see the best individual reached a maximum fitness of ~70. The score needed to go through the environment is 300. We could further improve our agent by:\n",
    "- Evolve for more generations\n",
    "- Changing the Neural Network Architecture\n",
    "- Change the generation or evaluation scheme"
   ]
  },
  {
   "cell_type": "markdown",
   "metadata": {},
   "source": [
    "We can record a video of our best individual:"
   ]
  },
  {
   "cell_type": "code",
   "execution_count": 35,
   "metadata": {},
   "outputs": [],
   "source": [
    "best = last_pop[np.argmax(hist[-1])]\n",
    "test_evaluator = BipedalWalkerFitnessFunction(save=True)\n",
    "test_evaluator([best])"
   ]
  },
  {
   "cell_type": "markdown",
   "metadata": {},
   "source": [
    "Clicking on the picture below you can see a video with the best individuals after each evolutionary step:\n",
    "\n",
    "[![](RL-Figure1.Jpg)](https://youtu.be/WwIoEMIe3ic)"
   ]
  },
  {
   "cell_type": "markdown",
   "metadata": {},
   "source": [
    "Finally, by adding a WandbCallback to the evolver, we can generate a more detailed log of the evolution: [example log](https://wandb.ai/eltoncn/EvolvePy%20Example/runs/2o9vemwl?workspace=user-eltoncn)."
   ]
  }
 ],
 "metadata": {
  "interpreter": {
   "hash": "2db524e06e9f5f4ffedc911c917cb75e12dbc923643829bf417064a77eb14d37"
  },
  "kernelspec": {
   "display_name": "Python 3.8.5 64-bit",
   "language": "python",
   "name": "python3"
  },
  "language_info": {
   "codemirror_mode": {
    "name": "ipython",
    "version": 3
   },
   "file_extension": ".py",
   "mimetype": "text/x-python",
   "name": "python",
   "nbconvert_exporter": "python",
   "pygments_lexer": "ipython3",
   "version": "3.8.5"
  },
  "orig_nbformat": 4
 },
 "nbformat": 4,
 "nbformat_minor": 2
}

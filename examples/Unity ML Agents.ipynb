{
 "cells": [
  {
   "cell_type": "markdown",
   "metadata": {},
   "source": [
    "- Instalar tudo que está aqui: https://github.com/Unity-Technologies/ml-agents/blob/main/docs/Getting-Started.md\n",
    "- Instalar Unity Gim - pip3 install gym_unity\n",
    " "
   ]
  },
  {
   "cell_type": "code",
   "execution_count": 1,
   "metadata": {},
   "outputs": [],
   "source": [
    "from mlagents_envs.environment import UnityEnvironment\n",
    "from gym_unity.envs import UnityToGymWrapper"
   ]
  },
  {
   "cell_type": "code",
   "execution_count": 11,
   "metadata": {},
   "outputs": [],
   "source": [
    "import evolvepy as ep\n",
    "import numpy as np\n",
    "from matplotlib import pyplot as plt\n",
    "import unity_utils as uutils"
   ]
  },
  {
   "cell_type": "code",
   "execution_count": 3,
   "metadata": {},
   "outputs": [],
   "source": [
    "args = {\"path\": \"D:\\\\Github\\\\ml-agents\\\\builds\\\\3dball_single\\\\UnityEnvironment.exe\"}\n",
    "evaluator = ep.evaluator.ProcessEvaluator(uutils.Unity3DBallEvaluator, args = args)\n",
    "\n",
    "#multiple_evaluation = ep.evaluator.MultipleEvaluation(evaluator, 10, discard_max=True, discard_min=True)"
   ]
  },
  {
   "cell_type": "code",
   "execution_count": 19,
   "metadata": {},
   "outputs": [],
   "source": [
    "sizes = [20, 20,  2] # Units of each layer\n",
    "input_size = 8 # Network input size (= observation size)\n",
    "\n",
    "names = []\n",
    "chr_sizes = []\n",
    "types = []\n",
    "ranges = []\n",
    "\n",
    "for i in range(len(sizes)):\n",
    "    total_weights = input_size*sizes[i]\n",
    "\n",
    "    names.append(\"layer\"+str(i)+\"w\")\n",
    "    names.append(\"layer\"+str(i)+\"b\")\n",
    "\n",
    "    chr_sizes.append(total_weights)\n",
    "    chr_sizes.append(sizes[i])\n",
    "\n",
    "    ranges.append((-1.0, 1.0))\n",
    "    ranges.append((-1.0, 1.0))\n",
    "\n",
    "    types.append(np.float32)\n",
    "    types.append(np.float32)\n",
    "\n",
    "    input_size = sizes[i]\n",
    "\n",
    "descriptor = ep.generator.Descriptor(chr_sizes, ranges, types, names)"
   ]
  },
  {
   "cell_type": "code",
   "execution_count": 5,
   "metadata": {},
   "outputs": [
    {
     "data": {
      "text/plain": [
       "96"
      ]
     },
     "execution_count": 5,
     "metadata": {},
     "output_type": "execute_result"
    }
   ],
   "source": [
    "import multiprocessing as mp\n",
    "\n",
    "population_size = (100//mp.cpu_count())*mp.cpu_count()\n",
    "population_size"
   ]
  },
  {
   "cell_type": "code",
   "execution_count": 6,
   "metadata": {},
   "outputs": [],
   "source": [
    "first = ep.generator.Layer()\n",
    "sort = ep.generator.Sort()\n",
    "\n",
    "first.next = sort\n",
    "\n",
    "concat = ep.generator.Concatenate()\n",
    "\n",
    "predation = ep.generator.RandomPredation(int(0.75*population_size))\n",
    "combine = ep.generator.CombineLayer(ep.generator.selection.tournament, ep.generator.crossover.one_point)\n",
    "mutation = ep.generator.mutation.NumericMutationLayer(ep.generator.mutation.sum_mutation, 1.0, 0.9, (-0.5, 0.5))\n",
    "filter0 = ep.generator.FilterFirsts(int(np.floor(0.95*population_size)))\n",
    "\n",
    "sort.next = predation\n",
    "predation.next = combine\n",
    "combine.next = mutation\n",
    "mutation.next = filter0\n",
    "filter0.next = concat\n",
    "\n",
    "filter1 = ep.generator.FilterFirsts(int(np.ceil(0.05*population_size)))\n",
    "\n",
    "sort.next = filter1\n",
    "filter1.next = concat\n",
    "\n",
    "generator = ep.generator.Generator(first_layer=first, last_layer=concat, descriptor=descriptor)\n"
   ]
  },
  {
   "cell_type": "code",
   "execution_count": 7,
   "metadata": {},
   "outputs": [],
   "source": [
    "from evolvepy.integrations.wandb import WandbLogger\n",
    "\n",
    "dyn_mut = ep.callbacks.DynamicMutation([mutation.name], refinement_patience=5, exploration_patience=5, refinement_steps=5)\n",
    "logger = WandbLogger(\"3DBall2\", \"EvolvePy Example\")\n",
    "\n",
    "evolver = ep.Evolver(generator, evaluator, population_size, [dyn_mut, logger])"
   ]
  },
  {
   "cell_type": "code",
   "execution_count": 8,
   "metadata": {},
   "outputs": [
    {
     "name": "stderr",
     "output_type": "stream",
     "text": [
      "Failed to detect the name of this notebook, you can set it manually with the WANDB_NOTEBOOK_NAME environment variable to enable code saving.\n",
      "wandb: Currently logged in as: eltoncn (use `wandb login --relogin` to force relogin)\n"
     ]
    },
    {
     "data": {
      "text/html": [
       "\n",
       "                    Syncing run <strong><a href=\"https://wandb.ai/eltoncn/EvolvePy%20Example/runs/2xuoq82x\" target=\"_blank\">3DBall2</a></strong> to <a href=\"https://wandb.ai/eltoncn/EvolvePy%20Example\" target=\"_blank\">Weights & Biases</a> (<a href=\"https://docs.wandb.com/integrations/jupyter.html\" target=\"_blank\">docs</a>).<br/>\n",
       "\n",
       "                "
      ],
      "text/plain": [
       "<IPython.core.display.HTML object>"
      ]
     },
     "metadata": {},
     "output_type": "display_data"
    }
   ],
   "source": [
    "hist, last_pop = evolver.evolve(70)"
   ]
  },
  {
   "cell_type": "code",
   "execution_count": 1,
   "metadata": {},
   "outputs": [],
   "source": [
    "import wandb"
   ]
  },
  {
   "cell_type": "code",
   "execution_count": 3,
   "metadata": {},
   "outputs": [],
   "source": [
    "api = wandb.Api()"
   ]
  },
  {
   "cell_type": "code",
   "execution_count": 4,
   "metadata": {},
   "outputs": [],
   "source": [
    "runs = api.runs(\"eltoncn\" + \"/\" + \"EvolvePy Example\") \n"
   ]
  },
  {
   "cell_type": "code",
   "execution_count": 13,
   "metadata": {},
   "outputs": [],
   "source": [
    "df = runs[0].history()"
   ]
  },
  {
   "cell_type": "code",
   "execution_count": 32,
   "metadata": {},
   "outputs": [],
   "source": [
    "hist = np.array(df[\"best_fitness\"][:70])\n",
    "hist = hist.reshape(70, -1)"
   ]
  },
  {
   "cell_type": "code",
   "execution_count": 73,
   "metadata": {},
   "outputs": [
    {
     "data": {
      "image/png": "[encoded data removed]",
      "text/plain": [
       "<Figure size 432x288 with 1 Axes>"
      ]
     },
     "metadata": {
      "needs_background": "light"
     },
     "output_type": "display_data"
    }
   ],
   "source": [
    "plt.plot(hist.max(axis=1))\n",
    "plt.xlabel(\"Generation\")\n",
    "plt.ylabel(\"Fitness\")\n",
    "plt.title(\"Evolution History\")\n",
    "plt.show()"
   ]
  },
  {
   "cell_type": "code",
   "execution_count": 3,
   "metadata": {},
   "outputs": [],
   "source": [
    "import tensorflow.python.keras.applications"
   ]
  },
  {
   "cell_type": "code",
   "execution_count": 4,
   "metadata": {},
   "outputs": [],
   "source": [
    "from tensorflow.python import keras"
   ]
  },
  {
   "cell_type": "code",
   "execution_count": 5,
   "metadata": {},
   "outputs": [
    {
     "data": {
      "text/plain": [
       "<module 'tensorflow.python.keras.applications' from 'C:\\\\Python38\\\\lib\\\\site-packages\\\\tensorflow\\\\python\\\\keras\\\\applications\\\\__init__.py'>"
      ]
     },
     "execution_count": 5,
     "metadata": {},
     "output_type": "execute_result"
    }
   ],
   "source": [
    "keras.applications"
   ]
  },
  {
   "cell_type": "code",
   "execution_count": 13,
   "metadata": {},
   "outputs": [],
   "source": [
    "import tf2onnx\n",
    "from evolvepy.integrations.tf_keras import transfer_weights\n",
    "from tensorflow import keras\n",
    "import tensorflow as tf"
   ]
  },
  {
   "cell_type": "code",
   "execution_count": 15,
   "metadata": {},
   "outputs": [],
   "source": [
    "model = keras.Sequential([keras.layers.Dense(20, activation=\"relu\", input_shape=(8,)),\n",
    "                            keras.layers.Dense(20, activation=\"relu\"),\n",
    "                            keras.layers.Dense(2, activation=\"sigmoid\"),\n",
    "                            keras.layers.Dense(2, activation=\"linear\")])"
   ]
  },
  {
   "cell_type": "code",
   "execution_count": null,
   "metadata": {},
   "outputs": [],
   "source": [
    "best = last_pop[np.argmax(hist[-1])]"
   ]
  },
  {
   "cell_type": "code",
   "execution_count": 17,
   "metadata": {},
   "outputs": [],
   "source": [
    "best_data = np.load(\"D:\\\\Github\\\\evolvepy\\\\examples\\\\wandb\\\\run-20220109_194643-2xuoq82x\\\\files\\\\best_individual71.npy\", allow_pickle=True).item()"
   ]
  },
  {
   "cell_type": "code",
   "execution_count": 20,
   "metadata": {},
   "outputs": [],
   "source": [
    "best_original = np.empty(1, descriptor.dtype)\n",
    "\n",
    "for name in best_data:\n",
    "    names = name.split(\"/\")\n",
    "    best_original[0][names[1]][int(names[2])] = best_data[name]"
   ]
  },
  {
   "cell_type": "code",
   "execution_count": 60,
   "metadata": {},
   "outputs": [],
   "source": [
    "fields = descriptor.dtype.fields\n",
    "fields2 = {}\n",
    "index = 0\n",
    "for name in fields:\n",
    "    fields2[\"weights\"+str(index)] = fields[name]\n",
    "    index += 1\n",
    "\n",
    "dtype = np.dtype(fields2)"
   ]
  },
  {
   "cell_type": "code",
   "execution_count": 75,
   "metadata": {},
   "outputs": [],
   "source": []
  },
  {
   "cell_type": "code",
   "execution_count": 30,
   "metadata": {},
   "outputs": [
    {
     "name": "stdout",
     "output_type": "stream",
     "text": [
      "[INFO] Listening on port 5004. Start training by pressing the Play button in the Unity Editor.\n",
      "[INFO] Connected to Unity environment with package version 2.1.0-exp.1 and communication version 1.5.0\n",
      "[INFO] Connected new brain: 3DBall?team=0\n"
     ]
    },
    {
     "name": "stderr",
     "output_type": "stream",
     "text": [
      "C:\\Python38\\lib\\site-packages\\gym\\spaces\\box.py:73: UserWarning: \u001b[33mWARN: Box bound precision lowered by casting to float32\u001b[0m\n",
      "  logger.warn(\n"
     ]
    }
   ],
   "source": [
    "from mlagents_envs.environment import UnityEnvironment\n",
    "from gym_unity.envs import UnityToGymWrapper\n",
    "\n",
    "\n",
    "unity_env = UnityEnvironment()\n",
    "env = UnityToGymWrapper(unity_env, allow_multiple_obs=True)"
   ]
  },
  {
   "cell_type": "code",
   "execution_count": 31,
   "metadata": {},
   "outputs": [],
   "source": [
    "test_evaluator  = uutils.Unity3DBallEvaluator(show=True, args = args, env=env)"
   ]
  },
  {
   "cell_type": "code",
   "execution_count": 32,
   "metadata": {},
   "outputs": [],
   "source": [
    "test_evaluator.evaluate(best_original)\n",
    "env.close()"
   ]
  },
  {
   "cell_type": "code",
   "execution_count": null,
   "metadata": {},
   "outputs": [],
   "source": []
  }
 ],
 "metadata": {
  "interpreter": {
   "hash": "2db524e06e9f5f4ffedc911c917cb75e12dbc923643829bf417064a77eb14d37"
  },
  "kernelspec": {
   "display_name": "Python 3.8.5 64-bit",
   "language": "python",
   "name": "python3"
  },
  "language_info": {
   "codemirror_mode": {
    "name": "ipython",
    "version": 3
   },
   "file_extension": ".py",
   "mimetype": "text/x-python",
   "name": "python",
   "nbconvert_exporter": "python",
   "pygments_lexer": "ipython3",
   "version": "3.8.5"
  },
  "orig_nbformat": 4
 },
 "nbformat": 4,
 "nbformat_minor": 2
}

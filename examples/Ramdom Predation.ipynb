{
 "cells": [
  {
   "cell_type": "markdown",
   "metadata": {},
   "source": [
    "# EvolvePy Example 5 - RamdomPredation\n",
    "\n",
    "In this example, we will show how to create a generator with ramdom predation, to improve the populations capacity do adapt by eliminationg the n weakest individuals. \n",
    "\n",
    "- Defining a generator with complex sequence\n",
    "- Use ramdom predation"
   ]
  },
  {
   "cell_type": "code",
   "execution_count": null,
   "metadata": {},
   "outputs": [],
   "source": [
    "try:\n",
    "    import evolvepy\n",
    "except:\n",
    "    import sys\n",
    "    sys.path.append(\"..\\src\")\n",
    "import evolvepy\n",
    "\n",
    "import numpy as np\n",
    "from matplotlib import pyplot as plt"
   ]
  },
  {
   "cell_type": "markdown",
   "metadata": {},
   "source": [
    "# Fitness functions\n",
    "\n",
    "We will use the same function as the first example (see Simple EA example)."
   ]
  },
  {
   "cell_type": "code",
   "execution_count": null,
   "metadata": {},
   "outputs": [],
   "source": [
    "from evolvepy.evaluator import FunctionEvaluator\n",
    "\n",
    "def fitness_function(individuals):\n",
    "    individual = individuals[0][\"chr0\"][0] \n",
    "\n",
    "    score = 0\n",
    "\n",
    "    if individual < 500:\n",
    "        score = individual\n",
    "    elif individual < 1000:\n",
    "        score = 1000 - individual\n",
    "    elif individual < 2000:\n",
    "        score = individual - 1000\n",
    "    else:\n",
    "        score = 3000 - individual\n",
    "\n",
    "    return score\n",
    "\n",
    "evaluator = FunctionEvaluator(fitness_function)"
   ]
  },
  {
   "cell_type": "markdown",
   "metadata": {},
   "source": [
    "# Create the generator\n",
    "\n",
    "Unlike the previous example, let's define the sequence of operators to generate the population with a bifurcation. The first path will generate the new individuals using crossover and mutation as before, however the second will only select the worst 5 individuals and exchange them with a ramdomly better individual.\n",
    "\n",
    "Vamos utilizar camadas de filtro para nos certificarmos que apenas a quantidade desejada de indivíduos é passada em frente, evitando aumentar a população."
   ]
  },
  {
   "cell_type": "code",
   "execution_count": null,
   "metadata": {},
   "outputs": [],
   "source": [
    "from evolvepy.generator.generator import Generator\n",
    "from evolvepy.generator.layer import Concatenate, Layer\n",
    "from evolvepy.generator.combine import CombineLayer\n",
    "from evolvepy.generator.basic_layers import Sort,FilterFirsts, RamdomPredate\n",
    "from evolvepy.generator.mutation import NumericMutationLayer, sum_mutation\n",
    "from evolvepy.generator.crossover import one_point\n",
    "from evolvepy.generator.selection import tournament\n",
    "\n",
    "# Defines the layers of the generator\n",
    "first_layer = Layer() # Input layer \n",
    "\n",
    "# First path: Combine -> Mutation -> Filter\n",
    "combine = CombineLayer(tournament, one_point)\n",
    "mutation = NumericMutationLayer(sum_mutation, 1.0, 0.0, (-10.0, 10.0))\n",
    "filter1 = FilterFirsts(95)\n",
    "first_layer.next = combine\n",
    "combine.next = mutation\n",
    "mutation.next = filter1\n",
    "\n",
    "# Second path: Sort -> Filter\n",
    "sort = Sort()\n",
    "filter2 = RamdomPredate(5)\n",
    "first_layer.next = sort\n",
    "sort.next = filter2\n",
    "\n",
    "# Combine both paths\n",
    "concatenate = Concatenate()\n",
    "filter1.next = concatenate\n",
    "filter2.next = concatenate\n",
    "\n",
    "# Creates the generator, specifying that an individual has only one chromosome, which can vary between -1000 and 4000 \n",
    "generator = Generator(1, chromossome_ranges=(-1000.0, 4000.0), first_layer=first_layer, last_layer=concatenate)"
   ]
  },
  {
   "cell_type": "markdown",
   "metadata": {},
   "source": [
    "# Evaluate\n",
    "\n",
    "Let's define the evolver and evolve for a few generations."
   ]
  },
  {
   "cell_type": "code",
   "execution_count": null,
   "metadata": {},
   "outputs": [],
   "source": [
    "from evolvepy import Evolver\n",
    "\n",
    "evolver = Evolver(generator, evaluator, 100)\n",
    "\n",
    "# Optmizes over 200 generations\n",
    "hist, last_population = evolver.evolve(200) \n",
    "\n",
    "# Plot the results\n",
    "plt.plot(hist.min(axis=1))\n",
    "plt.plot(hist.mean(axis=1))\n",
    "\n",
    "plt.legend([\"Worst\", \"Mean\"])\n",
    "plt.xlabel(\"Generation\")\n",
    "plt.ylabel(\"Fitness\")\n",
    "\n",
    "plt.ylim(800,1100)\n",
    "plt.savefig(\"Example5-Figure1.jpg\")"
   ]
  },
  {
   "cell_type": "markdown",
   "metadata": {},
   "source": [
    "See how now the best fitness never gets worse? This is the effect of the Elitism! With it, you will never lose the best individual and the solution can only get better as the generations go by.\n",
    "\n",
    "![Figure1](Example5-Figure1.jpg)"
   ]
  }
 ],
 "metadata": {
  "interpreter": {
   "hash": "2db524e06e9f5f4ffedc911c917cb75e12dbc923643829bf417064a77eb14d37"
  },
  "kernelspec": {
   "display_name": "Python 3.8.5 64-bit",
   "language": "python",
   "name": "python3"
  },
  "language_info": {
   "codemirror_mode": {
    "name": "ipython",
    "version": 3
   },
   "file_extension": ".py",
   "mimetype": "text/x-python",
   "name": "python",
   "nbconvert_exporter": "python",
   "pygments_lexer": "ipython3",
   "version": "3.7.12"
  },
  "orig_nbformat": 4
 },
 "nbformat": 4,
 "nbformat_minor": 2
}

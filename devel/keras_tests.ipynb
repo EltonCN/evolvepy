{
 "cells": [
  {
   "cell_type": "code",
   "execution_count": 1,
   "metadata": {},
   "outputs": [],
   "source": [
    "import tensorflow as tf\n",
    "import tensorflow.keras as keras\n",
    "import numpy as np"
   ]
  },
  {
   "cell_type": "markdown",
   "metadata": {},
   "source": [
    "# Prepare data"
   ]
  },
  {
   "cell_type": "code",
   "execution_count": 2,
   "metadata": {},
   "outputs": [],
   "source": [
    "import os\n",
    "\n",
    "train_dataset_url = \"https://storage.googleapis.com/download.tensorflow.org/data/iris_training.csv\"\n",
    "\n",
    "train_dataset_fp = tf.keras.utils.get_file(fname=os.path.basename(train_dataset_url),\n",
    "                                           origin=train_dataset_url)\n",
    "\n",
    "column_names = ['sepal_length', 'sepal_width', 'petal_length', 'petal_width', 'species']\n",
    "feature_names = column_names[:-1]\n",
    "label_name = column_names[-1]\n",
    "\n",
    "batch_size = 32\n",
    "\n",
    "train_dataset = tf.data.experimental.make_csv_dataset(\n",
    "    train_dataset_fp,\n",
    "    batch_size,\n",
    "    column_names=column_names,\n",
    "    label_name=label_name,\n",
    "    num_epochs=1)\n",
    "\n",
    "def pack_features_vector(features, labels):\n",
    "  \"\"\"Pack the features into a single array.\"\"\"\n",
    "  features = tf.stack(list(features.values()), axis=1)\n",
    "  return features, labels\n",
    "\n",
    "train_dataset = train_dataset.map(pack_features_vector)"
   ]
  },
  {
   "cell_type": "code",
   "execution_count": 3,
   "metadata": {},
   "outputs": [],
   "source": [
    "y = np.concatenate([y for x, y in train_dataset], axis=0)\n",
    "x = np.concatenate([x for x, y in train_dataset], axis=0)"
   ]
  },
  {
   "cell_type": "code",
   "execution_count": 4,
   "metadata": {},
   "outputs": [],
   "source": [
    "n = x.shape[0]\n",
    "n_train = int(0.8*n)\n",
    "n_val = n-n_train\n",
    "\n",
    "x_val = x[n_train:]\n",
    "y_val = y[n_train:]\n",
    "\n",
    "x = x[:n_train]\n",
    "y = y[:n_train]"
   ]
  },
  {
   "cell_type": "markdown",
   "metadata": {},
   "source": [
    "# Create model"
   ]
  },
  {
   "cell_type": "code",
   "execution_count": 2,
   "metadata": {},
   "outputs": [],
   "source": [
    "from evolvepy.integrations.tf_keras import EvolutionaryModel\n",
    "\n",
    "def create_model():\n",
    "    model = EvolutionaryModel([keras.layers.Dense(10, activation=\"relu\", input_shape=(4,)),\n",
    "                                keras.layers.Dense(10, activation=\"relu\"),\n",
    "                                keras.layers.Dense(3)])\n",
    "    return model\n",
    "\n",
    "model = create_model()"
   ]
  },
  {
   "cell_type": "code",
   "execution_count": 3,
   "metadata": {},
   "outputs": [
    {
     "data": {
      "text/plain": [
       "'dense/kernel:0'"
      ]
     },
     "execution_count": 3,
     "metadata": {},
     "output_type": "execute_result"
    }
   ],
   "source": [
    "model.weights[0].name"
   ]
  },
  {
   "cell_type": "markdown",
   "metadata": {},
   "source": [
    "# Prepare generator"
   ]
  },
  {
   "cell_type": "code",
   "execution_count": 6,
   "metadata": {},
   "outputs": [],
   "source": [
    "import evolvepy as ep\n",
    "from evolvepy.integrations.tf_keras.tf_keras import get_descriptor\n",
    "\n",
    "\n",
    "def create_generator(model):\n",
    "    descriptor = get_descriptor(model)\n",
    "    first = ep.generator.Layer()\n",
    "    combine = ep.generator.CombineLayer(ep.generator.selection.tournament, ep.generator.crossover.one_point)\n",
    "    mutation = ep.generator.mutation.NumericMutationLayer(ep.generator.mutation.sum_mutation, 1.0, 0.5, (-0.5, 0.5))\n",
    "    filter0 = ep.generator.FilterFirsts(143)\n",
    "    sort = ep.generator.Sort()\n",
    "    filter1 = ep.generator.FilterFirsts(7)\n",
    "    concat = ep.generator.Concatenate()\n",
    "\n",
    "    first.next = combine\n",
    "    combine.next = mutation\n",
    "    combine.next = filter0\n",
    "    filter0.next = concat\n",
    "\n",
    "    first.next = sort\n",
    "    sort.next = filter1\n",
    "    filter1.next = concat\n",
    "\n",
    "    generator = ep.generator.Generator(first_layer=first, last_layer=concat, descriptor=descriptor)\n",
    "\n",
    "    return generator, mutation.name\n",
    "\n",
    "generator, mut_name = create_generator(model)"
   ]
  },
  {
   "cell_type": "markdown",
   "metadata": {},
   "source": [
    "# Mode 1"
   ]
  },
  {
   "cell_type": "code",
   "execution_count": 34,
   "metadata": {},
   "outputs": [],
   "source": [
    "from evolvepy.integrations.tf_keras import TFKerasEvaluator, LossFitnessFunction\n",
    "\n",
    "fitness_function = LossFitnessFunction(loss=keras.losses.SparseCategoricalCrossentropy(from_logits=True), x=x, y=y)\n",
    "evaluator = TFKerasEvaluator(model, fitness_function)"
   ]
  },
  {
   "cell_type": "code",
   "execution_count": 35,
   "metadata": {},
   "outputs": [],
   "source": [
    "generator, mut_name = create_generator(model)\n",
    "\n",
    "mem_log1 = ep.callbacks.MemoryStoreLogger(log_population=True)\n",
    "dyn_mut = ep.callbacks.DynamicMutation([mut_name], patience=2, refinement_steps=20, refinement_patience=2, exploration_steps=10, exploration_patience=2, refinement_divider=3)\n",
    "\n",
    "evolver = ep.Evolver(generator, evaluator, 150, [mem_log1, dyn_mut])"
   ]
  },
  {
   "cell_type": "code",
   "execution_count": 36,
   "metadata": {},
   "outputs": [],
   "source": [
    "hist1, last_pop = evolver.evolve(100)"
   ]
  },
  {
   "cell_type": "markdown",
   "metadata": {},
   "source": [
    "# Modo 2"
   ]
  },
  {
   "cell_type": "code",
   "execution_count": 133,
   "metadata": {},
   "outputs": [],
   "source": [
    "model = create_model()"
   ]
  },
  {
   "cell_type": "code",
   "execution_count": 134,
   "metadata": {},
   "outputs": [],
   "source": [
    "from evolvepy.callbacks import MemoryStoreLogger\n",
    "\n",
    "generator, mut_name = create_generator(model)\n",
    "\n",
    "mem_log4 = ep.callbacks.MemoryStoreLogger(log_population=True)\n",
    "dyn_mut = ep.callbacks.DynamicMutation([mut_name], patience=2, refinement_steps=20, refinement_patience=2, exploration_steps=10, exploration_patience=2, refinement_divider=3)\n",
    "\n",
    "model.compile(generator, 150, [mem_log4], loss=keras.losses.SparseCategoricalCrossentropy(from_logits=True), metrics=[\"accuracy\"])"
   ]
  },
  {
   "cell_type": "code",
   "execution_count": 12,
   "metadata": {},
   "outputs": [
    {
     "name": "stdout",
     "output_type": "stream",
     "text": [
      "Epoch 1/100\n",
      "1/1 [==============================] - 1s 1s/step - loss: 1.1162 - accuracy: 0.3854 - val_loss: 1.0756 - val_accuracy: 0.3750\n",
      "Epoch 2/100\n",
      "1/1 [==============================] - 1s 908ms/step - loss: 1.1162 - accuracy: 0.3854 - val_loss: 1.0756 - val_accuracy: 0.3750\n",
      "Epoch 3/100\n",
      "1/1 [==============================] - 1s 958ms/step - loss: 1.1162 - accuracy: 0.3854 - val_loss: 1.0756 - val_accuracy: 0.3750\n",
      "Epoch 4/100\n",
      "1/1 [==============================] - 1s 886ms/step - loss: 1.0968 - accuracy: 0.3854 - val_loss: 1.1209 - val_accuracy: 0.2917\n",
      "Epoch 5/100\n",
      "1/1 [==============================] - 1s 938ms/step - loss: 1.0968 - accuracy: 0.3854 - val_loss: 1.1209 - val_accuracy: 0.2917\n",
      "Epoch 6/100\n",
      "1/1 [==============================] - 1s 929ms/step - loss: 1.0968 - accuracy: 0.3854 - val_loss: 1.1209 - val_accuracy: 0.2917\n",
      "Epoch 7/100\n",
      "1/1 [==============================] - 1s 890ms/step - loss: 1.0968 - accuracy: 0.3854 - val_loss: 1.1209 - val_accuracy: 0.2917\n",
      "Epoch 8/100\n",
      "1/1 [==============================] - 1s 1s/step - loss: 1.0968 - accuracy: 0.3854 - val_loss: 1.1209 - val_accuracy: 0.2917\n",
      "Epoch 9/100\n",
      "1/1 [==============================] - 1s 957ms/step - loss: 1.0968 - accuracy: 0.3854 - val_loss: 1.1209 - val_accuracy: 0.2917\n",
      "Epoch 10/100\n",
      "1/1 [==============================] - 1s 872ms/step - loss: 1.0939 - accuracy: 0.3958 - val_loss: 1.1537 - val_accuracy: 0.1250\n",
      "Epoch 11/100\n",
      "1/1 [==============================] - 1s 959ms/step - loss: 1.0939 - accuracy: 0.3958 - val_loss: 1.1537 - val_accuracy: 0.1250\n",
      "Epoch 12/100\n",
      "1/1 [==============================] - 1s 885ms/step - loss: 1.0939 - accuracy: 0.3958 - val_loss: 1.1537 - val_accuracy: 0.1250\n",
      "Epoch 13/100\n",
      "1/1 [==============================] - 1s 987ms/step - loss: 1.0930 - accuracy: 0.3750 - val_loss: 1.1114 - val_accuracy: 0.3750\n",
      "Epoch 14/100\n",
      "1/1 [==============================] - 1s 940ms/step - loss: 1.0930 - accuracy: 0.3750 - val_loss: 1.1114 - val_accuracy: 0.3750\n",
      "Epoch 15/100\n",
      "1/1 [==============================] - 1s 816ms/step - loss: 1.0853 - accuracy: 0.4062 - val_loss: 1.1395 - val_accuracy: 0.3333\n",
      "Epoch 16/100\n",
      "1/1 [==============================] - 1s 813ms/step - loss: 1.0853 - accuracy: 0.4062 - val_loss: 1.1395 - val_accuracy: 0.3333\n",
      "Epoch 17/100\n",
      "1/1 [==============================] - 1s 920ms/step - loss: 1.0853 - accuracy: 0.4062 - val_loss: 1.1395 - val_accuracy: 0.3333\n",
      "Epoch 18/100\n",
      "1/1 [==============================] - 1s 882ms/step - loss: 1.0853 - accuracy: 0.4271 - val_loss: 1.1021 - val_accuracy: 0.3750\n",
      "Epoch 19/100\n",
      "1/1 [==============================] - 1s 991ms/step - loss: 1.0853 - accuracy: 0.4271 - val_loss: 1.1021 - val_accuracy: 0.3750\n",
      "Epoch 20/100\n",
      "1/1 [==============================] - 1s 1s/step - loss: 1.0853 - accuracy: 0.4271 - val_loss: 1.1021 - val_accuracy: 0.3750\n",
      "Epoch 21/100\n",
      "1/1 [==============================] - 1s 927ms/step - loss: 1.0853 - accuracy: 0.4271 - val_loss: 1.1021 - val_accuracy: 0.3750\n",
      "Epoch 22/100\n",
      "1/1 [==============================] - 1s 966ms/step - loss: 1.0782 - accuracy: 0.3958 - val_loss: 1.1340 - val_accuracy: 0.2083\n",
      "Epoch 23/100\n",
      "1/1 [==============================] - 1s 876ms/step - loss: 1.0782 - accuracy: 0.3958 - val_loss: 1.1340 - val_accuracy: 0.2083\n",
      "Epoch 24/100\n",
      "1/1 [==============================] - 1s 824ms/step - loss: 1.0782 - accuracy: 0.3958 - val_loss: 1.1340 - val_accuracy: 0.2083\n",
      "Epoch 25/100\n",
      "1/1 [==============================] - 1s 891ms/step - loss: 1.0782 - accuracy: 0.3958 - val_loss: 1.1340 - val_accuracy: 0.2083\n",
      "Epoch 26/100\n",
      "1/1 [==============================] - 1s 910ms/step - loss: 1.0782 - accuracy: 0.3958 - val_loss: 1.1340 - val_accuracy: 0.2083\n",
      "Epoch 27/100\n",
      "1/1 [==============================] - 1s 882ms/step - loss: 1.0782 - accuracy: 0.3958 - val_loss: 1.1340 - val_accuracy: 0.2083\n",
      "Epoch 28/100\n",
      "1/1 [==============================] - 1s 905ms/step - loss: 1.0782 - accuracy: 0.3958 - val_loss: 1.1340 - val_accuracy: 0.2083\n",
      "Epoch 29/100\n",
      "1/1 [==============================] - 1s 849ms/step - loss: 1.0782 - accuracy: 0.3958 - val_loss: 1.1340 - val_accuracy: 0.2083\n",
      "Epoch 30/100\n",
      "1/1 [==============================] - 1s 812ms/step - loss: 1.0745 - accuracy: 0.3750 - val_loss: 1.1535 - val_accuracy: 0.2083\n",
      "Epoch 31/100\n",
      "1/1 [==============================] - 1s 840ms/step - loss: 1.0745 - accuracy: 0.3750 - val_loss: 1.1535 - val_accuracy: 0.2083\n",
      "Epoch 32/100\n",
      "1/1 [==============================] - 1s 929ms/step - loss: 1.0745 - accuracy: 0.3750 - val_loss: 1.1535 - val_accuracy: 0.2083\n",
      "Epoch 33/100\n",
      "1/1 [==============================] - 1s 926ms/step - loss: 1.0723 - accuracy: 0.3958 - val_loss: 1.1588 - val_accuracy: 0.1250\n",
      "Epoch 34/100\n",
      "1/1 [==============================] - 1s 903ms/step - loss: 1.0723 - accuracy: 0.3958 - val_loss: 1.1588 - val_accuracy: 0.1250\n",
      "Epoch 35/100\n",
      "1/1 [==============================] - 1s 895ms/step - loss: 1.0723 - accuracy: 0.3958 - val_loss: 1.1588 - val_accuracy: 0.1250\n",
      "Epoch 36/100\n",
      "1/1 [==============================] - 1s 893ms/step - loss: 1.0723 - accuracy: 0.3958 - val_loss: 1.1588 - val_accuracy: 0.1250\n",
      "Epoch 37/100\n",
      "1/1 [==============================] - 1s 904ms/step - loss: 1.0723 - accuracy: 0.3958 - val_loss: 1.1588 - val_accuracy: 0.1250\n",
      "Epoch 38/100\n",
      "1/1 [==============================] - 1s 981ms/step - loss: 1.0688 - accuracy: 0.4375 - val_loss: 1.0813 - val_accuracy: 0.3333\n",
      "Epoch 39/100\n",
      "1/1 [==============================] - 1s 906ms/step - loss: 1.0688 - accuracy: 0.4375 - val_loss: 1.0813 - val_accuracy: 0.3333\n",
      "Epoch 40/100\n",
      "1/1 [==============================] - 1s 921ms/step - loss: 1.0688 - accuracy: 0.4375 - val_loss: 1.0813 - val_accuracy: 0.3333\n",
      "Epoch 41/100\n",
      "1/1 [==============================] - 1s 863ms/step - loss: 1.0612 - accuracy: 0.3958 - val_loss: 1.1632 - val_accuracy: 0.2083\n",
      "Epoch 42/100\n",
      "1/1 [==============================] - 1s 939ms/step - loss: 1.0612 - accuracy: 0.3958 - val_loss: 1.1632 - val_accuracy: 0.2083\n",
      "Epoch 43/100\n",
      "1/1 [==============================] - 1s 911ms/step - loss: 1.0612 - accuracy: 0.3958 - val_loss: 1.1632 - val_accuracy: 0.2083\n",
      "Epoch 44/100\n",
      "1/1 [==============================] - 1s 911ms/step - loss: 1.0612 - accuracy: 0.3958 - val_loss: 1.1632 - val_accuracy: 0.2083\n",
      "Epoch 45/100\n",
      "1/1 [==============================] - 1s 892ms/step - loss: 1.0612 - accuracy: 0.3958 - val_loss: 1.1632 - val_accuracy: 0.2083\n",
      "Epoch 46/100\n",
      "1/1 [==============================] - 1s 885ms/step - loss: 1.0612 - accuracy: 0.3958 - val_loss: 1.1632 - val_accuracy: 0.2083\n",
      "Epoch 47/100\n",
      "1/1 [==============================] - 1s 839ms/step - loss: 1.0612 - accuracy: 0.3958 - val_loss: 1.1632 - val_accuracy: 0.2083\n",
      "Epoch 48/100\n",
      "1/1 [==============================] - 1s 884ms/step - loss: 1.0562 - accuracy: 0.4479 - val_loss: 1.1061 - val_accuracy: 0.3750\n",
      "Epoch 49/100\n",
      "1/1 [==============================] - 1s 878ms/step - loss: 1.0562 - accuracy: 0.4479 - val_loss: 1.1061 - val_accuracy: 0.3750\n",
      "Epoch 50/100\n",
      "1/1 [==============================] - 1s 897ms/step - loss: 1.0535 - accuracy: 0.3958 - val_loss: 1.0858 - val_accuracy: 0.2917\n",
      "Epoch 51/100\n",
      "1/1 [==============================] - 1s 844ms/step - loss: 1.0487 - accuracy: 0.4271 - val_loss: 1.1488 - val_accuracy: 0.3750\n",
      "Epoch 52/100\n",
      "1/1 [==============================] - 1s 903ms/step - loss: 1.0487 - accuracy: 0.4271 - val_loss: 1.1488 - val_accuracy: 0.3750\n",
      "Epoch 53/100\n",
      "1/1 [==============================] - 1s 915ms/step - loss: 1.0487 - accuracy: 0.4271 - val_loss: 1.1488 - val_accuracy: 0.3750\n",
      "Epoch 54/100\n",
      "1/1 [==============================] - 1s 914ms/step - loss: 1.0487 - accuracy: 0.4271 - val_loss: 1.1488 - val_accuracy: 0.3750\n",
      "Epoch 55/100\n",
      "1/1 [==============================] - 1s 953ms/step - loss: 1.0414 - accuracy: 0.4583 - val_loss: 1.1303 - val_accuracy: 0.2917\n",
      "Epoch 56/100\n",
      "1/1 [==============================] - 1s 928ms/step - loss: 1.0414 - accuracy: 0.4583 - val_loss: 1.1303 - val_accuracy: 0.2917\n",
      "Epoch 57/100\n",
      "1/1 [==============================] - 1s 900ms/step - loss: 1.0414 - accuracy: 0.4583 - val_loss: 1.1303 - val_accuracy: 0.2917\n",
      "Epoch 58/100\n",
      "1/1 [==============================] - 1s 895ms/step - loss: 1.0414 - accuracy: 0.4583 - val_loss: 1.1303 - val_accuracy: 0.2917\n",
      "Epoch 59/100\n",
      "1/1 [==============================] - 1s 888ms/step - loss: 1.0384 - accuracy: 0.4688 - val_loss: 1.1365 - val_accuracy: 0.2083\n",
      "Epoch 60/100\n",
      "1/1 [==============================] - 1s 896ms/step - loss: 1.0359 - accuracy: 0.4583 - val_loss: 1.0967 - val_accuracy: 0.3750\n",
      "Epoch 61/100\n",
      "1/1 [==============================] - 1s 903ms/step - loss: 1.0359 - accuracy: 0.4583 - val_loss: 1.1351 - val_accuracy: 0.2917\n",
      "Epoch 62/100\n",
      "1/1 [==============================] - 1s 901ms/step - loss: 1.0359 - accuracy: 0.4583 - val_loss: 1.1351 - val_accuracy: 0.2917\n",
      "Epoch 63/100\n",
      "1/1 [==============================] - 1s 916ms/step - loss: 1.0315 - accuracy: 0.4896 - val_loss: 1.1341 - val_accuracy: 0.2917\n",
      "Epoch 64/100\n",
      "1/1 [==============================] - 1s 887ms/step - loss: 1.0307 - accuracy: 0.4583 - val_loss: 1.1079 - val_accuracy: 0.2917\n",
      "Epoch 65/100\n",
      "1/1 [==============================] - 1s 912ms/step - loss: 1.0307 - accuracy: 0.4583 - val_loss: 1.1079 - val_accuracy: 0.2917\n",
      "Epoch 66/100\n",
      "1/1 [==============================] - 1s 1s/step - loss: 1.0268 - accuracy: 0.4583 - val_loss: 1.1019 - val_accuracy: 0.3333\n",
      "Epoch 67/100\n",
      "1/1 [==============================] - 1s 958ms/step - loss: 1.0258 - accuracy: 0.4688 - val_loss: 1.1105 - val_accuracy: 0.3333\n",
      "Epoch 68/100\n",
      "1/1 [==============================] - 1s 792ms/step - loss: 1.0258 - accuracy: 0.4688 - val_loss: 1.1105 - val_accuracy: 0.3333\n",
      "Epoch 69/100\n",
      "1/1 [==============================] - 1s 785ms/step - loss: 1.0239 - accuracy: 0.4792 - val_loss: 1.1141 - val_accuracy: 0.3333\n",
      "Epoch 70/100\n",
      "1/1 [==============================] - 1s 943ms/step - loss: 1.0239 - accuracy: 0.4792 - val_loss: 1.1141 - val_accuracy: 0.3333\n",
      "Epoch 71/100\n",
      "1/1 [==============================] - 1s 1s/step - loss: 1.0238 - accuracy: 0.4792 - val_loss: 1.1184 - val_accuracy: 0.3333\n",
      "Epoch 72/100\n",
      "1/1 [==============================] - 1s 791ms/step - loss: 1.0226 - accuracy: 0.4792 - val_loss: 1.1192 - val_accuracy: 0.3333\n",
      "Epoch 73/100\n",
      "1/1 [==============================] - 1s 811ms/step - loss: 1.0221 - accuracy: 0.4792 - val_loss: 1.1210 - val_accuracy: 0.2917\n",
      "Epoch 74/100\n",
      "1/1 [==============================] - 1s 1s/step - loss: 1.0221 - accuracy: 0.4792 - val_loss: 1.1210 - val_accuracy: 0.2917\n",
      "Epoch 75/100\n",
      "1/1 [==============================] - 1s 932ms/step - loss: 1.0221 - accuracy: 0.4792 - val_loss: 1.1210 - val_accuracy: 0.2917\n",
      "Epoch 76/100\n",
      "1/1 [==============================] - 1s 840ms/step - loss: 1.0221 - accuracy: 0.4792 - val_loss: 1.1210 - val_accuracy: 0.2917\n",
      "Epoch 77/100\n",
      "1/1 [==============================] - 1s 854ms/step - loss: 1.0221 - accuracy: 0.4792 - val_loss: 1.1210 - val_accuracy: 0.2917\n",
      "Epoch 78/100\n",
      "1/1 [==============================] - 1s 956ms/step - loss: 1.0221 - accuracy: 0.4792 - val_loss: 1.1210 - val_accuracy: 0.2917\n",
      "Epoch 79/100\n",
      "1/1 [==============================] - 1s 800ms/step - loss: 1.0221 - accuracy: 0.4792 - val_loss: 1.1210 - val_accuracy: 0.2917\n",
      "Epoch 80/100\n",
      "1/1 [==============================] - 1s 795ms/step - loss: 1.0221 - accuracy: 0.4792 - val_loss: 1.1210 - val_accuracy: 0.2917\n",
      "Epoch 81/100\n",
      "1/1 [==============================] - 1s 999ms/step - loss: 1.0221 - accuracy: 0.4792 - val_loss: 1.1210 - val_accuracy: 0.2917\n",
      "Epoch 82/100\n",
      "1/1 [==============================] - 1s 792ms/step - loss: 1.0221 - accuracy: 0.4792 - val_loss: 1.1210 - val_accuracy: 0.2917\n",
      "Epoch 83/100\n",
      "1/1 [==============================] - 1s 752ms/step - loss: 1.0221 - accuracy: 0.4792 - val_loss: 1.1210 - val_accuracy: 0.2917\n",
      "Epoch 84/100\n",
      "1/1 [==============================] - 1s 781ms/step - loss: 1.0221 - accuracy: 0.4792 - val_loss: 1.1210 - val_accuracy: 0.2917\n",
      "Epoch 85/100\n",
      "1/1 [==============================] - 1s 780ms/step - loss: 1.0221 - accuracy: 0.4792 - val_loss: 1.1210 - val_accuracy: 0.2917\n",
      "Epoch 86/100\n",
      "1/1 [==============================] - 1s 784ms/step - loss: 1.0221 - accuracy: 0.4792 - val_loss: 1.1210 - val_accuracy: 0.2917\n",
      "Epoch 87/100\n",
      "1/1 [==============================] - 1s 777ms/step - loss: 1.0221 - accuracy: 0.4792 - val_loss: 1.1210 - val_accuracy: 0.2917\n",
      "Epoch 88/100\n",
      "1/1 [==============================] - 1s 774ms/step - loss: 1.0221 - accuracy: 0.4792 - val_loss: 1.1210 - val_accuracy: 0.2917\n",
      "Epoch 89/100\n",
      "1/1 [==============================] - 1s 776ms/step - loss: 1.0221 - accuracy: 0.4792 - val_loss: 1.1210 - val_accuracy: 0.2917\n",
      "Epoch 90/100\n",
      "1/1 [==============================] - 1s 808ms/step - loss: 1.0221 - accuracy: 0.4792 - val_loss: 1.1210 - val_accuracy: 0.2917\n",
      "Epoch 91/100\n",
      "1/1 [==============================] - 1s 800ms/step - loss: 1.0221 - accuracy: 0.4792 - val_loss: 1.1210 - val_accuracy: 0.2917\n",
      "Epoch 92/100\n",
      "1/1 [==============================] - 1s 781ms/step - loss: 1.0221 - accuracy: 0.4792 - val_loss: 1.1210 - val_accuracy: 0.2917\n",
      "Epoch 93/100\n",
      "1/1 [==============================] - 1s 804ms/step - loss: 1.0221 - accuracy: 0.4792 - val_loss: 1.1210 - val_accuracy: 0.2917\n",
      "Epoch 94/100\n",
      "1/1 [==============================] - 1s 783ms/step - loss: 1.0221 - accuracy: 0.4792 - val_loss: 1.1210 - val_accuracy: 0.2917\n",
      "Epoch 95/100\n",
      "1/1 [==============================] - 1s 774ms/step - loss: 1.0221 - accuracy: 0.4792 - val_loss: 1.1210 - val_accuracy: 0.2917\n",
      "Epoch 96/100\n",
      "1/1 [==============================] - 1s 779ms/step - loss: 1.0221 - accuracy: 0.4792 - val_loss: 1.1210 - val_accuracy: 0.2917\n",
      "Epoch 97/100\n",
      "1/1 [==============================] - 1s 781ms/step - loss: 1.0221 - accuracy: 0.4792 - val_loss: 1.1210 - val_accuracy: 0.2917\n",
      "Epoch 98/100\n",
      "1/1 [==============================] - 1s 816ms/step - loss: 1.0221 - accuracy: 0.4792 - val_loss: 1.1210 - val_accuracy: 0.2917\n",
      "Epoch 99/100\n",
      "1/1 [==============================] - 1s 772ms/step - loss: 1.0221 - accuracy: 0.4792 - val_loss: 1.1210 - val_accuracy: 0.2917\n",
      "Epoch 100/100\n",
      "1/1 [==============================] - 1s 741ms/step - loss: 1.0221 - accuracy: 0.4792 - val_loss: 1.1210 - val_accuracy: 0.2917\n"
     ]
    }
   ],
   "source": [
    "hist2 = model.fit(x, y, validation_data=(x_val, y_val), epochs = 100, steps_per_epoch=1)"
   ]
  },
  {
   "cell_type": "code",
   "execution_count": 135,
   "metadata": {},
   "outputs": [
    {
     "name": "stdout",
     "output_type": "stream",
     "text": [
      "Epoch 1/100\n",
      "4/4 [==============================] - 5s 1s/step - loss: 0.9876 - accuracy: 0.4688 - val_loss: 1.2387 - val_accuracy: 0.2500\n",
      "Epoch 2/100\n",
      "4/4 [==============================] - 4s 962ms/step - loss: 1.0736 - accuracy: 0.3854 - val_loss: 1.0930 - val_accuracy: 0.2500\n",
      "Epoch 3/100\n",
      "4/4 [==============================] - 4s 1s/step - loss: 1.0654 - accuracy: 0.4167 - val_loss: 1.1923 - val_accuracy: 0.2500\n",
      "Epoch 4/100\n",
      "4/4 [==============================] - 4s 1s/step - loss: 0.9719 - accuracy: 0.4167 - val_loss: 1.1350 - val_accuracy: 0.3750\n",
      "Epoch 5/100\n",
      "4/4 [==============================] - 4s 1s/step - loss: 1.0562 - accuracy: 0.4896 - val_loss: 1.0816 - val_accuracy: 0.4167\n",
      "Epoch 6/100\n",
      "4/4 [==============================] - 5s 1s/step - loss: 1.0651 - accuracy: 0.4583 - val_loss: 1.0666 - val_accuracy: 0.4583\n",
      "Epoch 7/100\n",
      "4/4 [==============================] - 5s 1s/step - loss: 0.9110 - accuracy: 0.4479 - val_loss: 1.3040 - val_accuracy: 0.2500\n",
      "Epoch 8/100\n",
      "4/4 [==============================] - 4s 989ms/step - loss: 1.0706 - accuracy: 0.4375 - val_loss: 1.1899 - val_accuracy: 0.2500\n",
      "Epoch 9/100\n",
      "4/4 [==============================] - 4s 977ms/step - loss: 1.0455 - accuracy: 0.4271 - val_loss: 1.0821 - val_accuracy: 0.3333\n",
      "Epoch 10/100\n",
      "4/4 [==============================] - 4s 980ms/step - loss: 1.0327 - accuracy: 0.4479 - val_loss: 1.2105 - val_accuracy: 0.2500\n",
      "Epoch 11/100\n",
      "4/4 [==============================] - 4s 914ms/step - loss: 1.0037 - accuracy: 0.4271 - val_loss: 1.1196 - val_accuracy: 0.4583\n",
      "Epoch 12/100\n",
      "4/4 [==============================] - 4s 1s/step - loss: 1.0815 - accuracy: 0.4271 - val_loss: 1.0902 - val_accuracy: 0.2500\n",
      "Epoch 13/100\n",
      "4/4 [==============================] - 4s 1s/step - loss: 1.0823 - accuracy: 0.4792 - val_loss: 1.1116 - val_accuracy: 0.2917\n",
      "Epoch 14/100\n",
      "4/4 [==============================] - 4s 1s/step - loss: 1.0845 - accuracy: 0.4375 - val_loss: 1.0855 - val_accuracy: 0.4583\n",
      "Epoch 15/100\n",
      "4/4 [==============================] - 4s 1s/step - loss: 1.0394 - accuracy: 0.4375 - val_loss: 1.1154 - val_accuracy: 0.2500\n",
      "Epoch 16/100\n",
      "4/4 [==============================] - 4s 913ms/step - loss: 1.0854 - accuracy: 0.4375 - val_loss: 1.0876 - val_accuracy: 0.5000\n",
      "Epoch 17/100\n",
      "4/4 [==============================] - 4s 880ms/step - loss: 1.0837 - accuracy: 0.4062 - val_loss: 1.1112 - val_accuracy: 0.4167\n",
      "Epoch 18/100\n",
      "4/4 [==============================] - 4s 920ms/step - loss: 1.0751 - accuracy: 0.4583 - val_loss: 1.1052 - val_accuracy: 0.2917\n",
      "Epoch 19/100\n",
      "4/4 [==============================] - 5s 1s/step - loss: 1.0765 - accuracy: 0.4583 - val_loss: 1.0812 - val_accuracy: 0.5000\n",
      "Epoch 20/100\n",
      "4/4 [==============================] - 4s 1s/step - loss: 1.0572 - accuracy: 0.4688 - val_loss: 1.0791 - val_accuracy: 0.2917\n",
      "Epoch 21/100\n",
      "4/4 [==============================] - 4s 1s/step - loss: 1.0699 - accuracy: 0.4479 - val_loss: 1.1024 - val_accuracy: 0.4583\n",
      "Epoch 22/100\n",
      "4/4 [==============================] - 4s 968ms/step - loss: 1.0811 - accuracy: 0.4479 - val_loss: 1.0925 - val_accuracy: 0.5000\n",
      "Epoch 23/100\n",
      "4/4 [==============================] - 4s 951ms/step - loss: 1.0910 - accuracy: 0.4792 - val_loss: 1.0873 - val_accuracy: 0.4583\n",
      "Epoch 24/100\n",
      "4/4 [==============================] - 4s 934ms/step - loss: 1.0286 - accuracy: 0.4896 - val_loss: 1.0941 - val_accuracy: 0.3333\n",
      "Epoch 25/100\n",
      "4/4 [==============================] - 4s 885ms/step - loss: 1.0810 - accuracy: 0.4062 - val_loss: 1.0830 - val_accuracy: 0.3333\n",
      "Epoch 26/100\n",
      "4/4 [==============================] - 3s 857ms/step - loss: 1.0677 - accuracy: 0.4271 - val_loss: 1.0870 - val_accuracy: 0.3333\n",
      "Epoch 27/100\n",
      "4/4 [==============================] - 4s 878ms/step - loss: 1.0551 - accuracy: 0.4479 - val_loss: 1.0860 - val_accuracy: 0.3333\n",
      "Epoch 28/100\n",
      "4/4 [==============================] - 4s 882ms/step - loss: 1.0539 - accuracy: 0.4062 - val_loss: 1.0776 - val_accuracy: 0.2917\n",
      "Epoch 29/100\n",
      "4/4 [==============================] - 4s 885ms/step - loss: 1.0182 - accuracy: 0.4375 - val_loss: 1.0860 - val_accuracy: 0.3333\n",
      "Epoch 30/100\n",
      "4/4 [==============================] - 4s 896ms/step - loss: 1.0501 - accuracy: 0.4375 - val_loss: 1.1068 - val_accuracy: 0.2917\n",
      "Epoch 31/100\n",
      "4/4 [==============================] - 4s 882ms/step - loss: 1.0213 - accuracy: 0.4688 - val_loss: 1.0796 - val_accuracy: 0.3333\n",
      "Epoch 32/100\n",
      "4/4 [==============================] - 4s 976ms/step - loss: 1.0937 - accuracy: 0.4167 - val_loss: 1.1136 - val_accuracy: 0.3333\n",
      "Epoch 33/100\n",
      "4/4 [==============================] - 3s 866ms/step - loss: 1.1022 - accuracy: 0.3854 - val_loss: 1.0893 - val_accuracy: 0.3333\n",
      "Epoch 34/100\n",
      "4/4 [==============================] - 3s 867ms/step - loss: 1.0795 - accuracy: 0.4167 - val_loss: 1.0626 - val_accuracy: 0.3333\n",
      "Epoch 35/100\n",
      "4/4 [==============================] - 4s 923ms/step - loss: 1.0472 - accuracy: 0.4271 - val_loss: 1.0842 - val_accuracy: 0.3333\n",
      "Epoch 36/100\n",
      "4/4 [==============================] - 4s 927ms/step - loss: 1.1114 - accuracy: 0.4062 - val_loss: 1.0658 - val_accuracy: 0.3333\n",
      "Epoch 37/100\n",
      "4/4 [==============================] - 4s 969ms/step - loss: 1.0798 - accuracy: 0.4062 - val_loss: 1.0801 - val_accuracy: 0.3750\n",
      "Epoch 38/100\n",
      "4/4 [==============================] - 5s 1s/step - loss: 1.0711 - accuracy: 0.4062 - val_loss: 1.0776 - val_accuracy: 0.3333\n",
      "Epoch 39/100\n",
      "4/4 [==============================] - 4s 1s/step - loss: 1.0874 - accuracy: 0.4062 - val_loss: 1.0673 - val_accuracy: 0.3333\n",
      "Epoch 40/100\n",
      "4/4 [==============================] - 4s 863ms/step - loss: 1.0407 - accuracy: 0.4062 - val_loss: 1.0743 - val_accuracy: 0.3333\n",
      "Epoch 41/100\n",
      "4/4 [==============================] - 4s 984ms/step - loss: 1.0799 - accuracy: 0.4062 - val_loss: 1.0673 - val_accuracy: 0.3333\n",
      "Epoch 42/100\n",
      "4/4 [==============================] - 4s 977ms/step - loss: 1.0471 - accuracy: 0.4062 - val_loss: 1.0743 - val_accuracy: 0.3333\n",
      "Epoch 43/100\n",
      "4/4 [==============================] - 4s 951ms/step - loss: 1.0680 - accuracy: 0.4062 - val_loss: 1.0743 - val_accuracy: 0.3333\n",
      "Epoch 44/100\n",
      "4/4 [==============================] - 4s 937ms/step - loss: 1.0771 - accuracy: 0.4062 - val_loss: 1.0743 - val_accuracy: 0.3333\n",
      "Epoch 45/100\n",
      "4/4 [==============================] - 4s 1s/step - loss: 1.0631 - accuracy: 0.4062 - val_loss: 1.0743 - val_accuracy: 0.3333\n",
      "Epoch 46/100\n",
      "4/4 [==============================] - 4s 938ms/step - loss: 1.1655 - accuracy: 0.4062 - val_loss: 1.0743 - val_accuracy: 0.3333\n",
      "Epoch 47/100\n",
      "4/4 [==============================] - 4s 1s/step - loss: 1.1529 - accuracy: 0.4062 - val_loss: 1.0743 - val_accuracy: 0.3333\n",
      "Epoch 48/100\n",
      "4/4 [==============================] - 4s 968ms/step - loss: 1.0488 - accuracy: 0.4062 - val_loss: 1.0743 - val_accuracy: 0.3333\n",
      "Epoch 49/100\n",
      "4/4 [==============================] - 4s 861ms/step - loss: 1.0830 - accuracy: 0.4062 - val_loss: 1.0743 - val_accuracy: 0.3333\n",
      "Epoch 50/100\n",
      "4/4 [==============================] - 4s 984ms/step - loss: 1.0582 - accuracy: 0.4062 - val_loss: 1.0743 - val_accuracy: 0.3333\n",
      "Epoch 51/100\n",
      "4/4 [==============================] - 4s 912ms/step - loss: 1.0699 - accuracy: 0.4062 - val_loss: 1.0743 - val_accuracy: 0.3333\n",
      "Epoch 52/100\n",
      "4/4 [==============================] - 3s 872ms/step - loss: 1.0312 - accuracy: 0.4062 - val_loss: 1.0743 - val_accuracy: 0.3333\n",
      "Epoch 53/100\n",
      "4/4 [==============================] - 4s 847ms/step - loss: 1.0407 - accuracy: 0.4062 - val_loss: 1.0743 - val_accuracy: 0.3333\n",
      "Epoch 54/100\n",
      "4/4 [==============================] - 4s 1s/step - loss: 1.0344 - accuracy: 0.4062 - val_loss: 1.0743 - val_accuracy: 0.3333\n",
      "Epoch 55/100\n",
      "4/4 [==============================] - 4s 1s/step - loss: 1.0653 - accuracy: 0.4062 - val_loss: 1.0743 - val_accuracy: 0.3333\n",
      "Epoch 56/100\n",
      "4/4 [==============================] - 4s 860ms/step - loss: 1.0819 - accuracy: 0.4062 - val_loss: 1.0743 - val_accuracy: 0.3333\n",
      "Epoch 57/100\n",
      "4/4 [==============================] - 3s 884ms/step - loss: 1.0528 - accuracy: 0.4062 - val_loss: 1.0743 - val_accuracy: 0.3333\n",
      "Epoch 58/100\n",
      "4/4 [==============================] - 3s 867ms/step - loss: 1.1063 - accuracy: 0.4062 - val_loss: 1.0743 - val_accuracy: 0.3333\n",
      "Epoch 59/100\n",
      "4/4 [==============================] - 3s 867ms/step - loss: 1.0270 - accuracy: 0.4062 - val_loss: 1.0743 - val_accuracy: 0.3333\n",
      "Epoch 60/100\n",
      "4/4 [==============================] - 4s 956ms/step - loss: 1.0833 - accuracy: 0.4062 - val_loss: 1.0743 - val_accuracy: 0.3333\n",
      "Epoch 61/100\n",
      "4/4 [==============================] - 4s 889ms/step - loss: 1.0973 - accuracy: 0.4062 - val_loss: 1.0743 - val_accuracy: 0.3333\n",
      "Epoch 62/100\n",
      "4/4 [==============================] - 4s 947ms/step - loss: 1.1113 - accuracy: 0.4062 - val_loss: 1.0743 - val_accuracy: 0.3333\n",
      "Epoch 63/100\n",
      "4/4 [==============================] - 4s 1s/step - loss: 1.0238 - accuracy: 0.4062 - val_loss: 1.0743 - val_accuracy: 0.3333\n",
      "Epoch 64/100\n",
      "4/4 [==============================] - 4s 924ms/step - loss: 1.0663 - accuracy: 0.4062 - val_loss: 1.0743 - val_accuracy: 0.3333\n",
      "Epoch 65/100\n",
      "4/4 [==============================] - 4s 1s/step - loss: 1.0841 - accuracy: 0.4062 - val_loss: 1.0743 - val_accuracy: 0.3333\n",
      "Epoch 66/100\n",
      "4/4 [==============================] - 4s 953ms/step - loss: 1.0808 - accuracy: 0.4062 - val_loss: 1.0743 - val_accuracy: 0.3333\n",
      "Epoch 67/100\n",
      "4/4 [==============================] - 4s 932ms/step - loss: 1.0487 - accuracy: 0.4062 - val_loss: 1.0743 - val_accuracy: 0.3333\n",
      "Epoch 68/100\n",
      "4/4 [==============================] - 4s 975ms/step - loss: 1.0260 - accuracy: 0.4062 - val_loss: 1.0743 - val_accuracy: 0.3333\n",
      "Epoch 69/100\n",
      "4/4 [==============================] - 4s 935ms/step - loss: 1.0637 - accuracy: 0.4062 - val_loss: 1.0743 - val_accuracy: 0.3333\n",
      "Epoch 70/100\n",
      "4/4 [==============================] - 4s 856ms/step - loss: 1.0971 - accuracy: 0.4062 - val_loss: 1.0743 - val_accuracy: 0.3333\n",
      "Epoch 71/100\n",
      "4/4 [==============================] - 4s 1s/step - loss: 1.1059 - accuracy: 0.4062 - val_loss: 1.0743 - val_accuracy: 0.3333\n",
      "Epoch 72/100\n",
      "4/4 [==============================] - 4s 871ms/step - loss: 1.0944 - accuracy: 0.4062 - val_loss: 1.0743 - val_accuracy: 0.3333\n",
      "Epoch 73/100\n",
      "4/4 [==============================] - 4s 1s/step - loss: 1.0844 - accuracy: 0.4062 - val_loss: 1.0743 - val_accuracy: 0.3333\n",
      "Epoch 74/100\n",
      "4/4 [==============================] - 3s 856ms/step - loss: 1.0954 - accuracy: 0.4062 - val_loss: 1.0743 - val_accuracy: 0.3333\n",
      "Epoch 75/100\n",
      "4/4 [==============================] - 3s 848ms/step - loss: 1.1015 - accuracy: 0.4062 - val_loss: 1.0743 - val_accuracy: 0.3333\n",
      "Epoch 76/100\n",
      "4/4 [==============================] - 3s 888ms/step - loss: 1.0077 - accuracy: 0.4062 - val_loss: 1.0743 - val_accuracy: 0.3333\n",
      "Epoch 77/100\n",
      "4/4 [==============================] - 3s 853ms/step - loss: 1.0325 - accuracy: 0.4062 - val_loss: 1.0743 - val_accuracy: 0.3333\n",
      "Epoch 78/100\n",
      "4/4 [==============================] - 3s 834ms/step - loss: 1.0627 - accuracy: 0.4062 - val_loss: 1.0743 - val_accuracy: 0.3333\n",
      "Epoch 79/100\n",
      "4/4 [==============================] - 3s 850ms/step - loss: 1.0828 - accuracy: 0.4062 - val_loss: 1.0743 - val_accuracy: 0.3333\n",
      "Epoch 80/100\n",
      "4/4 [==============================] - 4s 970ms/step - loss: 1.0689 - accuracy: 0.4062 - val_loss: 1.0743 - val_accuracy: 0.3333\n",
      "Epoch 81/100\n",
      "4/4 [==============================] - 3s 859ms/step - loss: 1.0352 - accuracy: 0.4062 - val_loss: 1.0743 - val_accuracy: 0.3333\n",
      "Epoch 82/100\n",
      "4/4 [==============================] - 4s 1s/step - loss: 1.0555 - accuracy: 0.4062 - val_loss: 1.0743 - val_accuracy: 0.3333\n",
      "Epoch 83/100\n",
      "4/4 [==============================] - 4s 1s/step - loss: 1.0542 - accuracy: 0.4062 - val_loss: 1.0743 - val_accuracy: 0.3333\n",
      "Epoch 84/100\n",
      "4/4 [==============================] - 4s 1s/step - loss: 1.1408 - accuracy: 0.4062 - val_loss: 1.0743 - val_accuracy: 0.3333\n",
      "Epoch 85/100\n",
      "4/4 [==============================] - 4s 1s/step - loss: 1.1035 - accuracy: 0.4062 - val_loss: 1.0743 - val_accuracy: 0.3333\n",
      "Epoch 86/100\n",
      "4/4 [==============================] - 4s 1s/step - loss: 1.0343 - accuracy: 0.4062 - val_loss: 1.0743 - val_accuracy: 0.3333\n",
      "Epoch 87/100\n",
      "4/4 [==============================] - 4s 1s/step - loss: 1.0688 - accuracy: 0.4062 - val_loss: 1.0743 - val_accuracy: 0.3333\n",
      "Epoch 88/100\n",
      "4/4 [==============================] - 4s 1s/step - loss: 1.0318 - accuracy: 0.4062 - val_loss: 1.0743 - val_accuracy: 0.3333\n",
      "Epoch 89/100\n",
      "4/4 [==============================] - 4s 1s/step - loss: 1.0886 - accuracy: 0.4062 - val_loss: 1.0743 - val_accuracy: 0.3333\n",
      "Epoch 90/100\n",
      "4/4 [==============================] - 4s 1s/step - loss: 1.0865 - accuracy: 0.4062 - val_loss: 1.0743 - val_accuracy: 0.3333\n",
      "Epoch 91/100\n",
      "4/4 [==============================] - 4s 956ms/step - loss: 1.0324 - accuracy: 0.4062 - val_loss: 1.0743 - val_accuracy: 0.3333\n",
      "Epoch 92/100\n",
      "4/4 [==============================] - 4s 960ms/step - loss: 1.0647 - accuracy: 0.4062 - val_loss: 1.0743 - val_accuracy: 0.3333\n",
      "Epoch 93/100\n",
      "4/4 [==============================] - 5s 1s/step - loss: 1.0516 - accuracy: 0.4062 - val_loss: 1.0743 - val_accuracy: 0.3333\n",
      "Epoch 94/100\n",
      "4/4 [==============================] - 5s 1s/step - loss: 1.0708 - accuracy: 0.4062 - val_loss: 1.0743 - val_accuracy: 0.3333\n",
      "Epoch 95/100\n",
      "4/4 [==============================] - 4s 913ms/step - loss: 1.1040 - accuracy: 0.4062 - val_loss: 1.0743 - val_accuracy: 0.3333\n",
      "Epoch 96/100\n",
      "4/4 [==============================] - 4s 913ms/step - loss: 1.1502 - accuracy: 0.4062 - val_loss: 1.0743 - val_accuracy: 0.3333\n",
      "Epoch 97/100\n",
      "4/4 [==============================] - 5s 1s/step - loss: 1.0924 - accuracy: 0.4062 - val_loss: 1.0743 - val_accuracy: 0.3333\n",
      "Epoch 98/100\n",
      "4/4 [==============================] - 4s 1s/step - loss: 1.1070 - accuracy: 0.4062 - val_loss: 1.0743 - val_accuracy: 0.3333\n",
      "Epoch 99/100\n",
      "4/4 [==============================] - 5s 1s/step - loss: 1.1021 - accuracy: 0.4062 - val_loss: 1.0743 - val_accuracy: 0.3333\n",
      "Epoch 100/100\n",
      "4/4 [==============================] - 4s 983ms/step - loss: 1.0886 - accuracy: 0.4062 - val_loss: 1.0743 - val_accuracy: 0.3333\n"
     ]
    }
   ],
   "source": [
    "hist4 = model.fit(x, y, validation_data=(x_val, y_val), epochs = 100, batch_size=24)"
   ]
  },
  {
   "cell_type": "code",
   "execution_count": 37,
   "metadata": {},
   "outputs": [],
   "source": [
    "fitness1 = hist1\n",
    "fitness2 = []\n",
    "\n",
    "for log in mem_log2.log:\n",
    "    fitness2.append(log[\"fitness\"])\n",
    "\n",
    "fitness2 = np.array(fitness2)"
   ]
  },
  {
   "cell_type": "code",
   "execution_count": 38,
   "metadata": {},
   "outputs": [
    {
     "data": {
      "image/png": "[encoded data removed]",
      "text/plain": [
       "<Figure size 432x288 with 1 Axes>"
      ]
     },
     "metadata": {
      "needs_background": "light"
     },
     "output_type": "display_data"
    }
   ],
   "source": [
    "from matplotlib import pyplot as plt\n",
    "\n",
    "plt.plot(np.max(fitness1, axis=1))\n",
    "plt.plot(np.max(fitness2, axis=1))\n",
    "\n",
    "plt.legend([\"Mode1\", \"Mode2\"])\n",
    "\n",
    "plt.show()\n"
   ]
  },
  {
   "cell_type": "code",
   "execution_count": 39,
   "metadata": {},
   "outputs": [
    {
     "data": {
      "text/plain": [
       "[<matplotlib.lines.Line2D at 0x20295523220>]"
      ]
     },
     "execution_count": 39,
     "metadata": {},
     "output_type": "execute_result"
    },
    {
     "data": {
      "image/png": "[encoded data removed]",
      "text/plain": [
       "<Figure size 432x288 with 1 Axes>"
      ]
     },
     "metadata": {
      "needs_background": "light"
     },
     "output_type": "display_data"
    }
   ],
   "source": [
    "plt.plot(-np.max(fitness2, axis=1))\n",
    "plt.plot(hist2.history[\"loss\"])"
   ]
  },
  {
   "cell_type": "code",
   "execution_count": 47,
   "metadata": {},
   "outputs": [],
   "source": [
    "from evolvepy.integrations.tf_keras import transfer_weights\n",
    "\n",
    "val_loss1 = []\n",
    "\n",
    "model = evaluator._model\n",
    "\n",
    "for i in range(100):\n",
    "    best = mem_log1.log[i][\"population\"][np.argmax(hist1[i])]\n",
    "    transfer_weights(best, model)\n",
    "    val_loss1.append(model.evaluate(x_val, y_val, verbose=0)[0])\n"
   ]
  },
  {
   "cell_type": "code",
   "execution_count": 61,
   "metadata": {},
   "outputs": [],
   "source": [
    "model_tf = keras.Sequential([keras.layers.Dense(10, activation=\"relu\", input_shape=(4,)),\n",
    "                                keras.layers.Dense(10, activation=\"relu\"),\n",
    "                                keras.layers.Dense(3)])\n",
    "\n",
    "model_tf.compile(optimizer=\"adam\", loss=keras.losses.SparseCategoricalCrossentropy(from_logits=True))\n",
    "hist_tf = model_tf.fit(x, y, steps_per_epoch=1, epochs=100, verbose=0, validation_data=(x_val, y_val))"
   ]
  },
  {
   "cell_type": "code",
   "execution_count": 137,
   "metadata": {},
   "outputs": [],
   "source": [
    "fitness4 = []\n",
    "\n",
    "for log in mem_log4.log:\n",
    "    fitness4.append(log[\"best_fitness\"])\n",
    "\n",
    "fitness4 = np.array(fitness4)"
   ]
  },
  {
   "cell_type": "code",
   "execution_count": 111,
   "metadata": {},
   "outputs": [
    {
     "data": {
      "text/plain": [
       "<keras.engine.compile_utils.LossesContainer at 0x20287f7d640>"
      ]
     },
     "execution_count": 111,
     "metadata": {},
     "output_type": "execute_result"
    }
   ],
   "source": [
    "model.compiled_loss"
   ]
  },
  {
   "cell_type": "code",
   "execution_count": 138,
   "metadata": {},
   "outputs": [
    {
     "data": {
      "text/plain": [
       "[<matplotlib.lines.Line2D at 0x202a5a23cd0>]"
      ]
     },
     "execution_count": 138,
     "metadata": {},
     "output_type": "execute_result"
    },
    {
     "data": {
      "image/png": "[encoded data removed]",
      "text/plain": [
       "<Figure size 432x288 with 1 Axes>"
      ]
     },
     "metadata": {
      "needs_background": "light"
     },
     "output_type": "display_data"
    }
   ],
   "source": [
    "plt.plot(hist4.history[\"loss\"], color=\"#009E73\")\n",
    "plt.plot(np.arange(0,100, 0.25), -fitness4, alpha=0.1)"
   ]
  },
  {
   "cell_type": "code",
   "execution_count": 139,
   "metadata": {},
   "outputs": [
    {
     "data": {
      "text/plain": [
       "[<matplotlib.lines.Line2D at 0x202a5a8c730>]"
      ]
     },
     "execution_count": 139,
     "metadata": {},
     "output_type": "execute_result"
    },
    {
     "data": {
      "image/png": "[encoded data removed]",
      "text/plain": [
       "<Figure size 432x288 with 1 Axes>"
      ]
     },
     "metadata": {
      "needs_background": "light"
     },
     "output_type": "display_data"
    }
   ],
   "source": [
    "plt.plot(hist4.history[\"loss\"], color=\"#009E73\")\n",
    "plt.plot(hist4.history[\"val_loss\"], \"--\", color=\"#009E73\", alpha=0.8)"
   ]
  },
  {
   "cell_type": "code",
   "execution_count": 143,
   "metadata": {},
   "outputs": [
    {
     "data": {
      "image/png": "[encoded data removed]",
      "text/plain": [
       "<Figure size 432x288 with 1 Axes>"
      ]
     },
     "metadata": {
      "needs_background": "light"
     },
     "output_type": "display_data"
    }
   ],
   "source": [
    "plt.plot(-hist1.max(axis=1), color=\"#E69F00\")\n",
    "plt.plot(val_loss1, \"--\", color=\"#E69F00\", alpha=0.8)\n",
    "\n",
    "plt.plot(hist2.history[\"loss\"], color=\"#56B4E9\")\n",
    "plt.plot(hist2.history[\"val_loss\"], \"--\", color=\"#56B4E9\", alpha=0.8)\n",
    "\n",
    "plt.ylim(plt.ylim())\n",
    "\n",
    "plt.plot(hist_tf.history[\"loss\"], color=\"#009E73\")\n",
    "plt.plot(hist_tf.history[\"val_loss\"], \"--\", color=\"#009E73\", alpha=0.8)\n",
    "\n",
    "plt.plot(hist4.history[\"val_loss\"], \"--\", color=\"#0072B2\", alpha=0.8)\n",
    "\n",
    "plt.legend([\"Mode1\", \"Mode1_val\", \"Mode2\", \"Mode2_val\", \"TF\", \"TF_val\", \"Mode4_val\"])\n",
    "plt.title(\"Loss Comparison\")\n",
    "plt.xlabel(\"Generation/Epoch\")\n",
    "plt.ylabel(\"Sparse Categorical Crossentropy\")\n",
    "plt.savefig(\"Loss Comparison.jpg\")\n",
    "\n",
    "plt.show()"
   ]
  },
  {
   "cell_type": "code",
   "execution_count": 53,
   "metadata": {},
   "outputs": [
    {
     "name": "stdout",
     "output_type": "stream",
     "text": [
      "541 ms ± 15.3 ms per loop (mean ± std. dev. of 7 runs, 1 loop each)\n"
     ]
    }
   ],
   "source": [
    "%timeit evolver.evolve(1)"
   ]
  },
  {
   "cell_type": "code",
   "execution_count": 55,
   "metadata": {},
   "outputs": [
    {
     "name": "stdout",
     "output_type": "stream",
     "text": [
      "935 ms ± 40.6 ms per loop (mean ± std. dev. of 7 runs, 1 loop each)\n"
     ]
    }
   ],
   "source": [
    "%timeit model.fit(x, y, steps_per_epoch=1, verbose=0)"
   ]
  },
  {
   "cell_type": "code",
   "execution_count": 60,
   "metadata": {},
   "outputs": [
    {
     "name": "stdout",
     "output_type": "stream",
     "text": [
      "34.9 ms ± 1.63 ms per loop (mean ± std. dev. of 7 runs, 10 loops each)\n"
     ]
    }
   ],
   "source": [
    "%timeit model_tf.fit(x, y, steps_per_epoch=1, verbose=0)"
   ]
  },
  {
   "cell_type": "markdown",
   "metadata": {},
   "source": [
    "# Times\n",
    "\n",
    "Mode | Time\n",
    "-|-\n",
    "Mode 1 | 541 ms ± 15.3 ms per loop (mean ± std. dev. of 7 runs, 1 loop each)\n",
    "Mode 2 | 935 ms ± 40.6 ms per loop (mean ± std. dev. of 7 runs, 1 loop each)\n",
    "TF | 34.9 ms ± 1.63 ms per loop (mean ± std. dev. of 7 runs, 10 loops each)"
   ]
  },
  {
   "cell_type": "code",
   "execution_count": null,
   "metadata": {},
   "outputs": [],
   "source": []
  }
 ],
 "metadata": {
  "interpreter": {
   "hash": "2db524e06e9f5f4ffedc911c917cb75e12dbc923643829bf417064a77eb14d37"
  },
  "kernelspec": {
   "display_name": "Python 3.8.5 64-bit",
   "language": "python",
   "name": "python3"
  },
  "language_info": {
   "codemirror_mode": {
    "name": "ipython",
    "version": 3
   },
   "file_extension": ".py",
   "mimetype": "text/x-python",
   "name": "python",
   "nbconvert_exporter": "python",
   "pygments_lexer": "ipython3",
   "version": "3.8.5"
  },
  "orig_nbformat": 4
 },
 "nbformat": 4,
 "nbformat_minor": 2
}

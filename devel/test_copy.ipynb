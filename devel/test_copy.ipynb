{
 "cells": [
  {
   "cell_type": "code",
   "execution_count": 1,
   "metadata": {},
   "outputs": [],
   "source": [
    "import copy"
   ]
  },
  {
   "cell_type": "code",
   "execution_count": 3,
   "metadata": {},
   "outputs": [],
   "source": [
    "chr_names = []\n",
    "\n",
    "for i in range(1000):\n",
    "    chr_names.append(\"chr\"+str(i))"
   ]
  },
  {
   "cell_type": "code",
   "execution_count": 4,
   "metadata": {},
   "outputs": [],
   "source": [
    "blocked = dict.fromkeys(chr_names, False)"
   ]
  },
  {
   "cell_type": "code",
   "execution_count": 5,
   "metadata": {},
   "outputs": [
    {
     "name": "stdout",
     "output_type": "stream",
     "text": [
      "714 µs ± 3.1 µs per loop (mean ± std. dev. of 7 runs, 1000 loops each)\n"
     ]
    }
   ],
   "source": [
    "%timeit copy.deepcopy(blocked)"
   ]
  },
  {
   "cell_type": "code",
   "execution_count": 9,
   "metadata": {},
   "outputs": [
    {
     "name": "stdout",
     "output_type": "stream",
     "text": [
      "34.1 µs ± 271 ns per loop (mean ± std. dev. of 7 runs, 10000 loops each)\n"
     ]
    }
   ],
   "source": [
    "%timeit dict.fromkeys(blocked.keys(), False)"
   ]
  },
  {
   "cell_type": "code",
   "execution_count": 10,
   "metadata": {},
   "outputs": [
    {
     "name": "stdout",
     "output_type": "stream",
     "text": [
      "49.5 µs ± 368 ns per loop (mean ± std. dev. of 7 runs, 10000 loops each)\n"
     ]
    }
   ],
   "source": [
    "%timeit dict(zip(list(blocked.keys()), list(blocked.values())))"
   ]
  },
  {
   "cell_type": "code",
   "execution_count": 12,
   "metadata": {},
   "outputs": [
    {
     "name": "stdout",
     "output_type": "stream",
     "text": [
      "64 µs ± 182 ns per loop (mean ± std. dev. of 7 runs, 10000 loops each)\n"
     ]
    }
   ],
   "source": [
    "%timeit {k:v for k,v in zip(list(blocked.keys()), list(blocked.values()))}"
   ]
  },
  {
   "cell_type": "code",
   "execution_count": 15,
   "metadata": {},
   "outputs": [
    {
     "name": "stdout",
     "output_type": "stream",
     "text": [
      "43.2 µs ± 357 ns per loop (mean ± std. dev. of 7 runs, 10000 loops each)\n"
     ]
    }
   ],
   "source": [
    "%timeit dict(zip(blocked.keys(),blocked.values()))"
   ]
  },
  {
   "cell_type": "code",
   "execution_count": 5,
   "metadata": {},
   "outputs": [],
   "source": [
    "linha = \"texto aaaa [Link](Link/bbb)\""
   ]
  },
  {
   "cell_type": "code",
   "execution_count": 6,
   "metadata": {},
   "outputs": [
    {
     "data": {
      "text/plain": [
       "'texto aaaa [Link](https://github//Link/bbb)'"
      ]
     },
     "execution_count": 6,
     "metadata": {},
     "output_type": "execute_result"
    }
   ],
   "source": [
    "linha.replace(\"(Link\", \"(https://github//Link\")"
   ]
  },
  {
   "cell_type": "code",
   "execution_count": 7,
   "metadata": {},
   "outputs": [
    {
     "data": {
      "text/plain": [
       "'texto aaaa [Link](Link/bbb)'"
      ]
     },
     "execution_count": 7,
     "metadata": {},
     "output_type": "execute_result"
    }
   ],
   "source": [
    "linha"
   ]
  },
  {
   "cell_type": "code",
   "execution_count": 13,
   "metadata": {},
   "outputs": [],
   "source": [
    "file = open(\"../README.md\", \"r\")\n",
    "lines = file.readlines()\n",
    "file.close()"
   ]
  },
  {
   "cell_type": "code",
   "execution_count": 14,
   "metadata": {},
   "outputs": [
    {
     "data": {
      "text/plain": [
       "['# EvolvePy\\n',\n",
       " '\\n',\n",
       " 'EvolvePy is a Python module created to allow the easy creation and execution of evolutionary algorithms.\\n',\n",
       " '\\n',\n",
       " \"**Documentation**: [EvolvePy's documentation]().\\n\",\n",
       " '\\n',\n",
       " '## Features\\n',\n",
       " '\\n',\n",
       " '(Links to example using feature)\\n',\n",
       " '\\n',\n",
       " '- Allows to create complex individual generators using different strategies:\\n',\n",
       " '  - [Crossover](https://github.com/EltonCN/evolvepy/blob/main/examples/1%20-%20Simple%20EA.ipynb) (one-point, n-point, mean)\\n',\n",
       " '  - Mutation ([sum](https://github.com/EltonCN/evolvepy/blob/main/examples/1%20-%20Simple%20EA.ipynb), multiplication, binary)\\n',\n",
       " '  - Dynamic mutation\\n',\n",
       " '  - [Elitism](https://github.com/EltonCN/evolvepy/blob/main/examples/2%20-%20Elitism.ipynb)\\n',\n",
       " '  - [Randomic predation](https://github.com/EltonCN/evolvepy/blob/main/examples/6%20-%20Random%20Predation.ipynb)\\n',\n",
       " '  - [Incremental evolution](https://github.com/EltonCN/evolvepy/blob/main/examples/5%20-%20Incremental%20Evolution.ipynb)\\n',\n",
       " '- Define individuals with different chromosomes, with different types, ranges, sizes and parameters in the generator.\\n',\n",
       " '- Evaluate individuals using [simple functions](https://github.com/EltonCN/evolvepy/blob/main/examples/1%20-%20Simple%20EA.ipynb)  or [multiple processes](https://github.com/EltonCN/evolvepy/blob/main/examples/Car%20PID%20Control.ipynb).\\n',\n",
       " '  - [Fitness cache](https://github.com/EltonCN/evolvepy/blob/main/examples/Car%20PID%20Control.ipynb) to avoid evaluate the same individual several times.\\n',\n",
       " '  - Fitness functions with different scores, which can be aggregated with different strategies.\\n',\n",
       " '  - [Evaluate the same individual several times to avoid noise](https://github.com/EltonCN/evolvepy/blob/main/examples/Car%20PID%20Control.ipynb).\\n',\n",
       " '- [Log the evolution data to analyze later](https://github.com/EltonCN/evolvepy/blob/main/examples/4%20-%20Logger.ipynb).\\n',\n",
       " '- Integrations with other modules:\\n',\n",
       " '  - [Wandb](https://github.com/EltonCN/evolvepy/blob/main/examples/4%20-%20Logger.ipynb)\\n',\n",
       " '  - [Tensorflow/Keras](https://github.com/EltonCN/evolvepy/blob/main/examples/TF-Keras%20Integration.ipynb)\\n',\n",
       " '  - [Gym](https://github.com/EltonCN/evolvepy/blob/main/examples/Reinforcement%20Learning.ipynb)\\n',\n",
       " '  - [Unity ML Agents](https://github.com/EltonCN/evolvepy/blob/main/examples/Unity%20ML%20Agents%20-%203DBall.ipynb) (using Gym)\\n',\n",
       " '\\n',\n",
       " '## Installation\\n',\n",
       " '\\n',\n",
       " '- EvolvePy can be installed using pip:\\n',\n",
       " '\\n',\n",
       " '    ```bash\\n',\n",
       " '    pip install --upgrade pip\\n',\n",
       " '    pip install evolvepy\\n',\n",
       " '    ```\\n',\n",
       " '\\n',\n",
       " '- For install with all integrations dependecies (gym, tensorflow, wandb, gym_unity):\\n',\n",
       " '    \\n',\n",
       " '    ```bash\\n',\n",
       " '    pip install --upgrade pip\\n',\n",
       " '    pip install evolvepy[all_integrations]\\n',\n",
       " '    ```\\n',\n",
       " '\\n',\n",
       " '\\n',\n",
       " '- For installing from this repository:\\n',\n",
       " '\\n',\n",
       " '    ```bash\\n',\n",
       " '    pip install --upgrade pip\\n',\n",
       " '    pip install .\\n',\n",
       " '    ```\\n',\n",
       " '\\n',\n",
       " '## Examples\\n',\n",
       " '\\n',\n",
       " 'The [\"examples\"](https://github.com/EltonCN/evolvepy/blob/main/examples) folder have a lot of examples of how to use EvolvePy.\\n',\n",
       " '\\n',\n",
       " '## Authors\\n',\n",
       " '\\n',\n",
       " \"Created by students from Unicamp's Institute of Computing (IC-Unicamp) as a project for the [evolutionary systems subject](https://gitlab.com/simoesusp/disciplinas/tree/master/SSC0713-Sistemas-Evolutivos-Aplicados-a-Robotica) at ICMC-USP, taught by prof. Eduardo do Valle Simoes.\\n\",\n",
       " '\\n',\n",
       " '- [EltonCN](https://github.com/EltonCN)\\n',\n",
       " '- [JoÃ£o Bonucci](https://github.com/Joao-Pedro-MB)\\n',\n",
       " '- [Thiago Lacerda](https://github.com/ThiagoDSL)']"
      ]
     },
     "execution_count": 14,
     "metadata": {},
     "output_type": "execute_result"
    }
   ],
   "source": [
    "new_lines = []\n",
    "\n",
    "for line in lines:\n",
    "    new_lines.append(line.replace(\"(examples\", \"(https://github.com/EltonCN/evolvepy/blob/main/examples\"))\n",
    "\n",
    "new_lines"
   ]
  },
  {
   "cell_type": "code",
   "execution_count": 11,
   "metadata": {},
   "outputs": [
    {
     "data": {
      "text/plain": [
       "[]"
      ]
     },
     "execution_count": 11,
     "metadata": {},
     "output_type": "execute_result"
    }
   ],
   "source": [
    "lines"
   ]
  },
  {
   "cell_type": "code",
   "execution_count": null,
   "metadata": {},
   "outputs": [],
   "source": []
  }
 ],
 "metadata": {
  "interpreter": {
   "hash": "2db524e06e9f5f4ffedc911c917cb75e12dbc923643829bf417064a77eb14d37"
  },
  "kernelspec": {
   "display_name": "Python 3.8.5 64-bit",
   "language": "python",
   "name": "python3"
  },
  "language_info": {
   "codemirror_mode": {
    "name": "ipython",
    "version": 3
   },
   "file_extension": ".py",
   "mimetype": "text/x-python",
   "name": "python",
   "nbconvert_exporter": "python",
   "pygments_lexer": "ipython3",
   "version": "3.8.5"
  },
  "orig_nbformat": 4
 },
 "nbformat": 4,
 "nbformat_minor": 2
}

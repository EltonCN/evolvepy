{
 "cells": [
  {
   "cell_type": "code",
   "execution_count": 62,
   "metadata": {},
   "outputs": [],
   "source": [
    "import sqlite3\n",
    "\n",
    "import pandas as pd\n",
    "import numpy as np\n",
    "import matplotlib.pyplot as plt"
   ]
  },
  {
   "cell_type": "code",
   "execution_count": 63,
   "metadata": {},
   "outputs": [],
   "source": [
    "con = sqlite3.connect(\"report23.sqlite\")\n",
    "cur = con.cursor()"
   ]
  },
  {
   "cell_type": "code",
   "execution_count": 64,
   "metadata": {},
   "outputs": [],
   "source": [
    "df = pd.read_sql_query(\"SELECT * FROM NVTX_EVENTS\", con)"
   ]
  },
  {
   "cell_type": "code",
   "execution_count": 65,
   "metadata": {},
   "outputs": [
    {
     "data": {
      "text/html": [
       "<div>\n",
       "<style scoped>\n",
       "    .dataframe tbody tr th:only-of-type {\n",
       "        vertical-align: middle;\n",
       "    }\n",
       "\n",
       "    .dataframe tbody tr th {\n",
       "        vertical-align: top;\n",
       "    }\n",
       "\n",
       "    .dataframe thead th {\n",
       "        text-align: right;\n",
       "    }\n",
       "</style>\n",
       "<table border=\"1\" class=\"dataframe\">\n",
       "  <thead>\n",
       "    <tr style=\"text-align: right;\">\n",
       "      <th></th>\n",
       "      <th>start</th>\n",
       "      <th>end</th>\n",
       "      <th>eventType</th>\n",
       "      <th>rangeId</th>\n",
       "      <th>category</th>\n",
       "      <th>color</th>\n",
       "      <th>text</th>\n",
       "      <th>globalTid</th>\n",
       "      <th>endGlobalTid</th>\n",
       "      <th>textId</th>\n",
       "      <th>domainId</th>\n",
       "      <th>uint64Value</th>\n",
       "      <th>int64Value</th>\n",
       "      <th>doubleValue</th>\n",
       "      <th>uint32Value</th>\n",
       "      <th>int32Value</th>\n",
       "      <th>floatValue</th>\n",
       "      <th>jsonTextId</th>\n",
       "      <th>jsonText</th>\n",
       "    </tr>\n",
       "  </thead>\n",
       "  <tbody>\n",
       "    <tr>\n",
       "      <th>0</th>\n",
       "      <td>460767495</td>\n",
       "      <td>NaN</td>\n",
       "      <td>75</td>\n",
       "      <td>NaN</td>\n",
       "      <td>NaN</td>\n",
       "      <td>NaN</td>\n",
       "      <td>evolvepy</td>\n",
       "      <td>281934538248076</td>\n",
       "      <td>None</td>\n",
       "      <td>None</td>\n",
       "      <td>1</td>\n",
       "      <td>None</td>\n",
       "      <td>None</td>\n",
       "      <td>None</td>\n",
       "      <td>None</td>\n",
       "      <td>None</td>\n",
       "      <td>None</td>\n",
       "      <td>None</td>\n",
       "      <td>None</td>\n",
       "    </tr>\n",
       "    <tr>\n",
       "      <th>1</th>\n",
       "      <td>460776151</td>\n",
       "      <td>NaN</td>\n",
       "      <td>33</td>\n",
       "      <td>NaN</td>\n",
       "      <td>1.0</td>\n",
       "      <td>NaN</td>\n",
       "      <td>generator_operator</td>\n",
       "      <td>281934538248076</td>\n",
       "      <td>None</td>\n",
       "      <td>None</td>\n",
       "      <td>1</td>\n",
       "      <td>None</td>\n",
       "      <td>None</td>\n",
       "      <td>None</td>\n",
       "      <td>None</td>\n",
       "      <td>None</td>\n",
       "      <td>None</td>\n",
       "      <td>None</td>\n",
       "      <td>None</td>\n",
       "    </tr>\n",
       "    <tr>\n",
       "      <th>2</th>\n",
       "      <td>480038667</td>\n",
       "      <td>NaN</td>\n",
       "      <td>33</td>\n",
       "      <td>NaN</td>\n",
       "      <td>2.0</td>\n",
       "      <td>NaN</td>\n",
       "      <td>evaluator</td>\n",
       "      <td>281934538248076</td>\n",
       "      <td>None</td>\n",
       "      <td>None</td>\n",
       "      <td>1</td>\n",
       "      <td>None</td>\n",
       "      <td>None</td>\n",
       "      <td>None</td>\n",
       "      <td>None</td>\n",
       "      <td>None</td>\n",
       "      <td>None</td>\n",
       "      <td>None</td>\n",
       "      <td>None</td>\n",
       "    </tr>\n",
       "    <tr>\n",
       "      <th>3</th>\n",
       "      <td>553658243</td>\n",
       "      <td>1.198854e+09</td>\n",
       "      <td>60</td>\n",
       "      <td>1.0</td>\n",
       "      <td>2.0</td>\n",
       "      <td>4.278227e+09</td>\n",
       "      <td>FunctionEvaluator0</td>\n",
       "      <td>281934538248076</td>\n",
       "      <td>None</td>\n",
       "      <td>None</td>\n",
       "      <td>1</td>\n",
       "      <td>None</td>\n",
       "      <td>None</td>\n",
       "      <td>None</td>\n",
       "      <td>None</td>\n",
       "      <td>None</td>\n",
       "      <td>None</td>\n",
       "      <td>None</td>\n",
       "      <td>None</td>\n",
       "    </tr>\n",
       "    <tr>\n",
       "      <th>4</th>\n",
       "      <td>1198890157</td>\n",
       "      <td>2.030892e+09</td>\n",
       "      <td>60</td>\n",
       "      <td>2.0</td>\n",
       "      <td>2.0</td>\n",
       "      <td>4.278227e+09</td>\n",
       "      <td>FunctionParallel1</td>\n",
       "      <td>281934538248076</td>\n",
       "      <td>None</td>\n",
       "      <td>None</td>\n",
       "      <td>1</td>\n",
       "      <td>None</td>\n",
       "      <td>None</td>\n",
       "      <td>None</td>\n",
       "      <td>None</td>\n",
       "      <td>None</td>\n",
       "      <td>None</td>\n",
       "      <td>None</td>\n",
       "      <td>None</td>\n",
       "    </tr>\n",
       "  </tbody>\n",
       "</table>\n",
       "</div>"
      ],
      "text/plain": [
       "        start           end  eventType  rangeId  category         color  \\\n",
       "0   460767495           NaN         75      NaN       NaN           NaN   \n",
       "1   460776151           NaN         33      NaN       1.0           NaN   \n",
       "2   480038667           NaN         33      NaN       2.0           NaN   \n",
       "3   553658243  1.198854e+09         60      1.0       2.0  4.278227e+09   \n",
       "4  1198890157  2.030892e+09         60      2.0       2.0  4.278227e+09   \n",
       "\n",
       "                 text        globalTid endGlobalTid textId  domainId  \\\n",
       "0            evolvepy  281934538248076         None   None         1   \n",
       "1  generator_operator  281934538248076         None   None         1   \n",
       "2           evaluator  281934538248076         None   None         1   \n",
       "3  FunctionEvaluator0  281934538248076         None   None         1   \n",
       "4   FunctionParallel1  281934538248076         None   None         1   \n",
       "\n",
       "  uint64Value int64Value doubleValue uint32Value int32Value floatValue  \\\n",
       "0        None       None        None        None       None       None   \n",
       "1        None       None        None        None       None       None   \n",
       "2        None       None        None        None       None       None   \n",
       "3        None       None        None        None       None       None   \n",
       "4        None       None        None        None       None       None   \n",
       "\n",
       "  jsonTextId jsonText  \n",
       "0       None     None  \n",
       "1       None     None  \n",
       "2       None     None  \n",
       "3       None     None  \n",
       "4       None     None  "
      ]
     },
     "execution_count": 65,
     "metadata": {},
     "output_type": "execute_result"
    }
   ],
   "source": [
    "df.head()"
   ]
  },
  {
   "cell_type": "code",
   "execution_count": 66,
   "metadata": {},
   "outputs": [],
   "source": [
    "NvtxCategory = 33\n",
    "NvtxStartEndRange = 60"
   ]
  },
  {
   "cell_type": "code",
   "execution_count": 67,
   "metadata": {},
   "outputs": [],
   "source": [
    "mask = df[\"eventType\"] == NvtxCategory\n",
    "mask = np.bitwise_and(mask, df[\"text\"] == \"benchmark\")\n",
    "row = df[mask]\n",
    "\n",
    "category_id = int(row[\"category\"])"
   ]
  },
  {
   "cell_type": "code",
   "execution_count": 68,
   "metadata": {},
   "outputs": [],
   "source": [
    "mask = df[\"eventType\"] == NvtxStartEndRange\n",
    "mask = np.bitwise_and(mask, df[\"category\"] == category_id )\n",
    "rows = df[mask]"
   ]
  },
  {
   "cell_type": "code",
   "execution_count": 69,
   "metadata": {},
   "outputs": [],
   "source": [
    "evaluator_names = [\"FunctionEvaluator\", \"FunctionParallel\", \"ProcessEvaluator\"]"
   ]
  },
  {
   "cell_type": "code",
   "execution_count": 70,
   "metadata": {},
   "outputs": [],
   "source": [
    "evaluator_times = {}\n",
    "evaluator_stds = {}\n",
    "\n",
    "for name in evaluator_names:\n",
    "    df_eval = pd.read_sql_query(\"SELECT * FROM NVTX_EVENTS WHERE text LIKE '{0}%' AND category = '{1}'\".format(name, category_id), con)\n",
    "    df_eval[\"population_size\"] = df_eval.apply(lambda x: int(x[\"text\"].split(\"_\")[-1]), axis=1)\n",
    "    df_eval.sort_values(\"population_size\", inplace=True)\n",
    "\n",
    "    sizes = np.unique(np.array(df_eval[\"population_size\"]))\n",
    "    times = []\n",
    "    stds = []\n",
    "    for size in sizes:\n",
    "        mask = df_eval[\"population_size\"] == size\n",
    "        end = df_eval[mask][\"end\"].to_numpy()\n",
    "        start = df_eval[mask][\"start\"].to_numpy()\n",
    "\n",
    "        size_times = end-start\n",
    "        times.append(np.mean(size_times))\n",
    "        stds.append(np.std(size_times))\n",
    "\n",
    "    evaluator_times[name] = np.array(times)\n",
    "    evaluator_stds[name] = np.array(stds)"
   ]
  },
  {
   "cell_type": "code",
   "execution_count": 71,
   "metadata": {},
   "outputs": [
    {
     "data": {
      "image/png": "[encoded data removed]",
      "text/plain": [
       "<Figure size 432x288 with 1 Axes>"
      ]
     },
     "metadata": {
      "needs_background": "light"
     },
     "output_type": "display_data"
    }
   ],
   "source": [
    "for name in evaluator_names:\n",
    "    plt.errorbar(sizes, evaluator_times[name], evaluator_stds[name], fmt=\"o\", capsize=5.0, markersize=5.0, label=name)\n",
    "\n",
    "plt.xticks(sizes)\n",
    "plt.legend()\n",
    "plt.yscale(\"log\")"
   ]
  },
  {
   "cell_type": "code",
   "execution_count": 72,
   "metadata": {},
   "outputs": [],
   "source": [
    "def compute_u_speedup(base, u_base, accelerated, u_accelerated):\n",
    "    u_speedup = np.power(u_accelerated, 2)*np.power(base, 2)/np.power(accelerated, 4)\n",
    "    u_speedup += np.power(u_base, 2)/np.power(accelerated, 2)\n",
    "    u_speedup = np.sqrt(u_speedup)\n",
    "\n",
    "    return u_speedup"
   ]
  },
  {
   "cell_type": "code",
   "execution_count": 73,
   "metadata": {},
   "outputs": [
    {
     "data": {
      "image/png": "[encoded data removed]",
      "text/plain": [
       "<Figure size 432x288 with 1 Axes>"
      ]
     },
     "metadata": {
      "needs_background": "light"
     },
     "output_type": "display_data"
    }
   ],
   "source": [
    "base = \"FunctionEvaluator\"\n",
    "\n",
    "for name in evaluator_names:\n",
    "    if name != base:\n",
    "        speedup = evaluator_times[base]/evaluator_times[name]\n",
    "        u_speedup = compute_u_speedup(evaluator_times[base], evaluator_stds[base], evaluator_times[name], evaluator_stds[name])\n",
    "        plt.errorbar(sizes, speedup, u_speedup, fmt=\"o\", capsize=5.0, markersize=5.0, label=name)\n",
    "\n",
    "plt.title(\"Speedup\")\n",
    "plt.xticks(sizes)\n",
    "plt.legend()\n",
    "plt.show()"
   ]
  },
  {
   "cell_type": "code",
   "execution_count": 74,
   "metadata": {},
   "outputs": [
    {
     "ename": "ValueError",
     "evalue": "",
     "output_type": "error",
     "traceback": [
      "\u001b[1;31m---------------------------------------------------------------------------\u001b[0m",
      "\u001b[1;31mValueError\u001b[0m                                Traceback (most recent call last)",
      "\u001b[1;32m<ipython-input-74-e4c8e09828d5>\u001b[0m in \u001b[0;36m<module>\u001b[1;34m\u001b[0m\n\u001b[1;32m----> 1\u001b[1;33m \u001b[1;32mraise\u001b[0m \u001b[0mValueError\u001b[0m\u001b[1;33m\u001b[0m\u001b[1;33m\u001b[0m\u001b[0m\n\u001b[0m",
      "\u001b[1;31mValueError\u001b[0m: "
     ]
    }
   ],
   "source": [
    "raise ValueError"
   ]
  },
  {
   "cell_type": "code",
   "execution_count": null,
   "metadata": {},
   "outputs": [
    {
     "data": {
      "image/png": "[encoded data removed]",
      "text/plain": [
       "<Figure size 432x288 with 1 Axes>"
      ]
     },
     "metadata": {
      "needs_background": "light"
     },
     "output_type": "display_data"
    }
   ],
   "source": [
    "base = \"FunctionEvaluator\"\n",
    "\n",
    "for name in evaluator_names:\n",
    "    if name != base:\n",
    "        speedup = evaluator_times[base]/evaluator_times[name]\n",
    "        u_speedup = compute_u_speedup(evaluator_times[base], evaluator_stds[base], evaluator_times[name], evaluator_stds[name])\n",
    "        plt.errorbar(sizes, speedup, u_speedup, fmt=\"o\", capsize=5.0, markersize=5.0, label=name)\n",
    "\n",
    "plt.title(\"Speedup\")\n",
    "plt.xticks(sizes)\n",
    "plt.legend()\n",
    "plt.show()"
   ]
  },
  {
   "cell_type": "code",
   "execution_count": null,
   "metadata": {},
   "outputs": [],
   "source": []
  }
 ],
 "metadata": {
  "kernelspec": {
   "display_name": "Python 3",
   "language": "python",
   "name": "python3"
  },
  "language_info": {
   "codemirror_mode": {
    "name": "ipython",
    "version": 3
   },
   "file_extension": ".py",
   "mimetype": "text/x-python",
   "name": "python",
   "nbconvert_exporter": "python",
   "pygments_lexer": "ipython3",
   "version": "3.8.5"
  },
  "orig_nbformat": 4
 },
 "nbformat": 4,
 "nbformat_minor": 2
}

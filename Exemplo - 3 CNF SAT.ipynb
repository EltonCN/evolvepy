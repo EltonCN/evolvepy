{
 "cells": [
  {
   "cell_type": "code",
   "execution_count": 7,
   "metadata": {},
   "outputs": [
    {
     "name": "stdout",
     "output_type": "stream",
     "text": [
      "Defaulting to user installation because normal site-packages is not writeable\n",
      "Processing /home/j/Área de Trabalho/EstudosUnicamp/evolvepy\n",
      "  Installing build dependencies ... \u001b[?25ldone\n",
      "\u001b[?25h  Getting requirements to build wheel ... \u001b[?25ldone\n",
      "\u001b[?25h  Preparing metadata (pyproject.toml) ... \u001b[?25ldone\n",
      "\u001b[?25hRequirement already satisfied: numba in /home/j/.local/lib/python3.8/site-packages (from evolvepy==0.0.0) (0.54.1)\n",
      "Requirement already satisfied: numpy<=1.20 in /home/j/.local/lib/python3.8/site-packages (from evolvepy==0.0.0) (1.20.0)\n",
      "Requirement already satisfied: llvmlite<0.38,>=0.37.0rc1 in /home/j/.local/lib/python3.8/site-packages (from numba->evolvepy==0.0.0) (0.37.0)\n",
      "Requirement already satisfied: setuptools in /usr/lib/python3/dist-packages (from numba->evolvepy==0.0.0) (45.2.0)\n",
      "Building wheels for collected packages: evolvepy\n",
      "  Building wheel for evolvepy (pyproject.toml) ... \u001b[?25ldone\n",
      "\u001b[?25h  Created wheel for evolvepy: filename=evolvepy-0.0.0-py3-none-any.whl size=31213 sha256=64e5c683ea9aee1c63a001da2c0f1f4ab1b2d7e0c826df88e5026c6a9ec2c067\n",
      "  Stored in directory: /tmp/pip-ephem-wheel-cache-rn8kn0_5/wheels/d3/c0/bb/a37f37518252ba78128e8808b5e9cc099a940b424005cef69b\n",
      "Successfully built evolvepy\n",
      "Installing collected packages: evolvepy\n",
      "Successfully installed evolvepy-0.0.0\n"
     ]
    }
   ],
   "source": [
    "!python3.8 -m pip install ."
   ]
  },
  {
   "cell_type": "code",
   "execution_count": 8,
   "metadata": {},
   "outputs": [],
   "source": [
    "import evolvepy as ep\n",
    "import numpy as np\n",
    "import matplotlib.pyplot as plt"
   ]
  },
  {
   "cell_type": "markdown",
   "metadata": {},
   "source": [
    "# Generator\n",
    "\n",
    "Here we will define the generator for the problem"
   ]
  },
  {
   "cell_type": "markdown",
   "metadata": {},
   "source": [
    "first, we need to define a descriptor with a boolean (true/false) chromossome"
   ]
  },
  {
   "cell_type": "code",
   "execution_count": 9,
   "metadata": {},
   "outputs": [],
   "source": [
    "# here we have individual with 1 chromossome with type boolean. There is no need t define the chromossome varition range\n",
    "descriptor = ep.generator.Descriptor(6, types = bool)"
   ]
  },
  {
   "cell_type": "code",
   "execution_count": 10,
   "metadata": {},
   "outputs": [
    {
     "name": "stdout",
     "output_type": "stream",
     "text": [
      "[('chr0', '?', (6,))]\n"
     ]
    }
   ],
   "source": [
    "print(descriptor.dtype)"
   ]
  },
  {
   "cell_type": "code",
   "execution_count": 11,
   "metadata": {},
   "outputs": [],
   "source": [
    "from evolvepy import generator\n",
    "\n",
    "# we will have populations with 50 individuals defined in the snippet above\n",
    "n_individual = 50\n",
    "\n",
    "# here we create the first layer i.e. generate the initial population\n",
    "first_layer = generator.Layer()"
   ]
  },
  {
   "cell_type": "code",
   "execution_count": 12,
   "metadata": {},
   "outputs": [],
   "source": [
    "from evolvepy.generator import CombineLayer\n",
    "from evolvepy.generator.mutation import BinaryMutationLayer, bit_mutation\n",
    "from evolvepy.generator.crossover import one_point\n",
    "from evolvepy.generator.selection import tournament\n",
    "\n",
    "combine = CombineLayer(tournament, one_point)\n",
    "mutation = BinaryMutationLayer(bit_mutation, 0.8, 0.4, (0.0, 1.0))\n",
    "\n",
    "gen = generator.Generator(descriptor=descriptor, first_layer=first_layer, last_layer=mutation)"
   ]
  },
  {
   "cell_type": "markdown",
   "metadata": {},
   "source": [
    "# Run and Results\n",
    "\n",
    "Let's evolve our population and see the results"
   ]
  },
  {
   "cell_type": "code",
   "execution_count": 13,
   "metadata": {},
   "outputs": [
    {
     "ename": "NameError",
     "evalue": "name 'cache' is not defined",
     "output_type": "error",
     "traceback": [
      "\u001b[0;31m---------------------------------------------------------------------------\u001b[0m",
      "\u001b[0;31mNameError\u001b[0m                                 Traceback (most recent call last)",
      "\u001b[0;32m/tmp/ipykernel_22248/3568787237.py\u001b[0m in \u001b[0;36m<module>\u001b[0;34m\u001b[0m\n\u001b[0;32m----> 1\u001b[0;31m \u001b[0mevolver\u001b[0m \u001b[0;34m=\u001b[0m \u001b[0mep\u001b[0m\u001b[0;34m.\u001b[0m\u001b[0mEvolver\u001b[0m\u001b[0;34m(\u001b[0m\u001b[0mgen\u001b[0m\u001b[0;34m,\u001b[0m \u001b[0mcache\u001b[0m\u001b[0;34m,\u001b[0m \u001b[0mn_individual\u001b[0m\u001b[0;34m)\u001b[0m\u001b[0;34m\u001b[0m\u001b[0;34m\u001b[0m\u001b[0m\n\u001b[0m\u001b[1;32m      2\u001b[0m \u001b[0mhist\u001b[0m\u001b[0;34m,\u001b[0m \u001b[0mlast_population\u001b[0m \u001b[0;34m=\u001b[0m \u001b[0mevolver\u001b[0m\u001b[0;34m.\u001b[0m\u001b[0mevolve\u001b[0m\u001b[0;34m(\u001b[0m\u001b[0;36m50\u001b[0m\u001b[0;34m)\u001b[0m\u001b[0;34m\u001b[0m\u001b[0;34m\u001b[0m\u001b[0m\n",
      "\u001b[0;31mNameError\u001b[0m: name 'cache' is not defined"
     ]
    }
   ],
   "source": [
    "evolver = ep.Evolver(gen, cache, n_individual)\n",
    "hist, last_population = evolver.evolve(50)"
   ]
  },
  {
   "cell_type": "code",
   "execution_count": null,
   "metadata": {},
   "outputs": [],
   "source": [
    "plt.plot(np.max(hist, axis=1))\n",
    "plt.plot(np.median(hist, axis=1))\n",
    "\n",
    "plt.legend([\"Best\", \"Median\"])\n",
    "plt.xlabel(\"Generation\")\n",
    "plt.ylabel(\"Fitness\")\n",
    "plt.title(\"Evolution History\")\n",
    "plt.show()"
   ]
  },
  {
   "cell_type": "markdown",
   "metadata": {},
   "source": [
    "By looking at fitness history, we can see how the best individual improved over time, with the rest of the population following along.\n",
    "\n",
    "![Evolution History](CarPIDControl-Figure1.jpg)"
   ]
  },
  {
   "cell_type": "code",
   "execution_count": null,
   "metadata": {},
   "outputs": [],
   "source": [
    "_, bins, _ = plt.hist(hist[-1], histtype=\"step\")\n",
    "plt.hist(hist[0], bins, histtype=\"step\")\n",
    "\n",
    "plt.legend([\"First generation\", \"Last generation\"])\n",
    "plt.xlabel(\"Generation\")\n",
    "plt.ylabel(\"Individuals\")\n",
    "plt.title(\"Fitness Histogram\")\n",
    "plt.show()"
   ]
  },
  {
   "cell_type": "markdown",
   "metadata": {},
   "source": [
    "The fitness histogram of the first and last generations shows that the population was converging to a better region as the generations passed.\n",
    "\n",
    "![Evolution History](CarPIDControl-Figure2.jpg)"
   ]
  },
  {
   "cell_type": "markdown",
   "metadata": {},
   "source": [
    "We can even save a video of our best individual:"
   ]
  },
  {
   "cell_type": "code",
   "execution_count": null,
   "metadata": {},
   "outputs": [],
   "source": [
    "best = last_population[np.argmax(hist[-1])]\n",
    "\n",
    "test_evaluator = CarRacingEvaluator(save=True)\n",
    "test_evaluator(best.ravel())"
   ]
  },
  {
   "cell_type": "markdown",
   "metadata": {},
   "source": [
    "A previously recorded result can be seen in the video below (click on the image to go to the video).\n",
    "\n",
    "[![Evolution History](CarPIDControl-Figure3.png)](https://www.youtube.com/watch?v=7NaK_CaXaeo)"
   ]
  },
  {
   "cell_type": "markdown",
   "metadata": {},
   "source": [
    "It is important to emphasize that the performance of the optimization depends a lot on the way the evaluation is defined. Comparing an evolved population as it is on this notebook with an evolved one with only 3 ratings and only 1 generation cache, we can see how noise hinders the evolution process:\n",
    "\n",
    "![Run Comparison](CarPIDControl-Figure4.png)"
   ]
  },
  {
   "cell_type": "markdown",
   "metadata": {},
   "source": [
    "Finally, a complete log of all data can be seen in [Weights and Biases](https://wandb.ai/eltoncn/EvolvePy%20Example/runs/2880i6ay?workspace=user-eltoncn)."
   ]
  }
 ],
 "metadata": {
  "interpreter": {
   "hash": "2db524e06e9f5f4ffedc911c917cb75e12dbc923643829bf417064a77eb14d37"
  },
  "kernelspec": {
   "display_name": "Python 3.8.5 64-bit",
   "language": "python",
   "name": "python3"
  },
  "language_info": {
   "codemirror_mode": {
    "name": "ipython",
    "version": 3
   },
   "file_extension": ".py",
   "mimetype": "text/x-python",
   "name": "python",
   "nbconvert_exporter": "python",
   "pygments_lexer": "ipython3",
   "version": "3.8.10"
  },
  "orig_nbformat": 4
 },
 "nbformat": 4,
 "nbformat_minor": 2
}
